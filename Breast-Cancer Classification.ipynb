{
 "cells": [
  {
   "cell_type": "markdown",
   "id": "2c8e316b-7881-4347-a50a-794367383124",
   "metadata": {},
   "source": [
    "### BREAST CANCER PREDICTION USING DIFFERENT MACHINE LEARNING ALGORITHM"
   ]
  },
  {
   "cell_type": "code",
   "execution_count": 1,
   "id": "2e69ad34-b268-4d7b-b01a-20467b7c7fae",
   "metadata": {},
   "outputs": [],
   "source": [
    "#Importing Dependencies\n",
    "import numpy as np\n",
    "import pandas as pd\n",
    "import matplotlib.pyplot as plt\n",
    "import seaborn as sns"
   ]
  },
  {
   "cell_type": "code",
   "execution_count": 2,
   "id": "ccee0121-a82b-4544-a713-bda6a78165e3",
   "metadata": {},
   "outputs": [],
   "source": [
    "#importing Evaluation Matrics\n",
    "from sklearn.metrics import f1_score,recall_score,precision_score,accuracy_score\n",
    "from sklearn.model_selection import train_test_split\n",
    "from sklearn.model_selection import GridSearchCV\n",
    "from sklearn.model_selection import RandomizedSearchCV\n",
    "from sklearn.model_selection import cross_val_score"
   ]
  },
  {
   "cell_type": "code",
   "execution_count": 3,
   "id": "c788381a-632c-4621-8a04-7a7a34addc7e",
   "metadata": {},
   "outputs": [],
   "source": [
    "#importing Machine Learning Models\n",
    "from sklearn.neighbors import KNeighborsClassifier\n",
    "from sklearn.naive_bayes import GaussianNB\n",
    "from sklearn.svm import SVC\n",
    "from sklearn.linear_model import LogisticRegression\n",
    "from sklearn.ensemble import RandomForestClassifier\n",
    "from sklearn.tree import DecisionTreeClassifier"
   ]
  },
  {
   "cell_type": "code",
   "execution_count": 4,
   "id": "c7245e7b-2d8a-424d-9606-d64fd2dbb7e5",
   "metadata": {},
   "outputs": [],
   "source": [
    "#Ignoring Warning\n",
    "import warnings\n",
    "warnings.filterwarnings(\"ignore\")"
   ]
  },
  {
   "cell_type": "code",
   "execution_count": 7,
   "id": "596d38e0-f290-49ef-b9e6-c180897151c5",
   "metadata": {},
   "outputs": [],
   "source": [
    "#Loading the dataset\n",
    "Data_set = pd.read_csv(\"breast-cancer-wisconsin.csv\")"
   ]
  },
  {
   "cell_type": "code",
   "execution_count": 8,
   "id": "cfea9db0-091f-4f9d-81a2-b7517f1f114f",
   "metadata": {},
   "outputs": [],
   "source": [
    "#Combating the Dataset into Array\n",
    "Data_set = np.array(Data_set)"
   ]
  },
  {
   "cell_type": "code",
   "execution_count": 9,
   "id": "4e2e4e48-cf98-4af9-9106-2bd3c246d146",
   "metadata": {},
   "outputs": [],
   "source": [
    "#Inseting the name of the columns\n",
    "Data_set = pd.DataFrame(Data_set,columns= ['Id Number','Clump Thickness','Uniformity of Cell Size','Uniformity of Cell Shape',\n",
    "                                          'Marginal Adhesion','Single Epithelial Cell Size','Bare Nuclei','Bland Chromatin','Normal Nucleoli',\n",
    "                                          'Mitoses','Class'])"
   ]
  },
  {
   "cell_type": "code",
   "execution_count": 10,
   "id": "27c2d7e5-2a2a-4010-8d68-ec9a70a6e3ea",
   "metadata": {},
   "outputs": [],
   "source": [
    "#Convating the Dataset into numeric means from object to int\n",
    "Data_set=Data_set.apply(pd.to_numeric,errors='ignore')"
   ]
  },
  {
   "cell_type": "code",
   "execution_count": 11,
   "id": "25c4efab-8aad-4854-aa8e-1d3c762706ba",
   "metadata": {},
   "outputs": [],
   "source": [
    "#Data_set['Bare Nuclei'] = Data_set['Bare Nuclei'].astype(int)"
   ]
  },
  {
   "cell_type": "code",
   "execution_count": 12,
   "id": "f4268bea-ec4b-40db-bd98-6c1e765c6dc7",
   "metadata": {},
   "outputs": [
    {
     "data": {
      "text/html": [
       "<div>\n",
       "<style scoped>\n",
       "    .dataframe tbody tr th:only-of-type {\n",
       "        vertical-align: middle;\n",
       "    }\n",
       "\n",
       "    .dataframe tbody tr th {\n",
       "        vertical-align: top;\n",
       "    }\n",
       "\n",
       "    .dataframe thead th {\n",
       "        text-align: right;\n",
       "    }\n",
       "</style>\n",
       "<table border=\"1\" class=\"dataframe\">\n",
       "  <thead>\n",
       "    <tr style=\"text-align: right;\">\n",
       "      <th></th>\n",
       "      <th>Id Number</th>\n",
       "      <th>Clump Thickness</th>\n",
       "      <th>Uniformity of Cell Size</th>\n",
       "      <th>Uniformity of Cell Shape</th>\n",
       "      <th>Marginal Adhesion</th>\n",
       "      <th>Single Epithelial Cell Size</th>\n",
       "      <th>Bare Nuclei</th>\n",
       "      <th>Bland Chromatin</th>\n",
       "      <th>Normal Nucleoli</th>\n",
       "      <th>Mitoses</th>\n",
       "      <th>Class</th>\n",
       "    </tr>\n",
       "  </thead>\n",
       "  <tbody>\n",
       "    <tr>\n",
       "      <th>0</th>\n",
       "      <td>1002945</td>\n",
       "      <td>5</td>\n",
       "      <td>4</td>\n",
       "      <td>4</td>\n",
       "      <td>5</td>\n",
       "      <td>7</td>\n",
       "      <td>10</td>\n",
       "      <td>3</td>\n",
       "      <td>2</td>\n",
       "      <td>1</td>\n",
       "      <td>2</td>\n",
       "    </tr>\n",
       "    <tr>\n",
       "      <th>1</th>\n",
       "      <td>1015425</td>\n",
       "      <td>3</td>\n",
       "      <td>1</td>\n",
       "      <td>1</td>\n",
       "      <td>1</td>\n",
       "      <td>2</td>\n",
       "      <td>2</td>\n",
       "      <td>3</td>\n",
       "      <td>1</td>\n",
       "      <td>1</td>\n",
       "      <td>2</td>\n",
       "    </tr>\n",
       "    <tr>\n",
       "      <th>2</th>\n",
       "      <td>1016277</td>\n",
       "      <td>6</td>\n",
       "      <td>8</td>\n",
       "      <td>8</td>\n",
       "      <td>1</td>\n",
       "      <td>3</td>\n",
       "      <td>4</td>\n",
       "      <td>3</td>\n",
       "      <td>7</td>\n",
       "      <td>1</td>\n",
       "      <td>2</td>\n",
       "    </tr>\n",
       "    <tr>\n",
       "      <th>3</th>\n",
       "      <td>1017023</td>\n",
       "      <td>4</td>\n",
       "      <td>1</td>\n",
       "      <td>1</td>\n",
       "      <td>3</td>\n",
       "      <td>2</td>\n",
       "      <td>1</td>\n",
       "      <td>3</td>\n",
       "      <td>1</td>\n",
       "      <td>1</td>\n",
       "      <td>2</td>\n",
       "    </tr>\n",
       "    <tr>\n",
       "      <th>4</th>\n",
       "      <td>1017122</td>\n",
       "      <td>8</td>\n",
       "      <td>10</td>\n",
       "      <td>10</td>\n",
       "      <td>8</td>\n",
       "      <td>7</td>\n",
       "      <td>10</td>\n",
       "      <td>9</td>\n",
       "      <td>7</td>\n",
       "      <td>1</td>\n",
       "      <td>4</td>\n",
       "    </tr>\n",
       "  </tbody>\n",
       "</table>\n",
       "</div>"
      ],
      "text/plain": [
       "   Id Number  Clump Thickness  Uniformity of Cell Size  \\\n",
       "0    1002945                5                        4   \n",
       "1    1015425                3                        1   \n",
       "2    1016277                6                        8   \n",
       "3    1017023                4                        1   \n",
       "4    1017122                8                       10   \n",
       "\n",
       "   Uniformity of Cell Shape  Marginal Adhesion  Single Epithelial Cell Size  \\\n",
       "0                         4                  5                            7   \n",
       "1                         1                  1                            2   \n",
       "2                         8                  1                            3   \n",
       "3                         1                  3                            2   \n",
       "4                        10                  8                            7   \n",
       "\n",
       "  Bare Nuclei  Bland Chromatin  Normal Nucleoli  Mitoses  Class  \n",
       "0          10                3                2        1      2  \n",
       "1           2                3                1        1      2  \n",
       "2           4                3                7        1      2  \n",
       "3           1                3                1        1      2  \n",
       "4          10                9                7        1      4  "
      ]
     },
     "execution_count": 12,
     "metadata": {},
     "output_type": "execute_result"
    }
   ],
   "source": [
    "#Printing the First 5 Rows of the Dataset\n",
    "Data_set.head()"
   ]
  },
  {
   "cell_type": "code",
   "execution_count": 13,
   "id": "fb9a3d87-888d-487f-88ae-b5ee18bfc6a7",
   "metadata": {},
   "outputs": [
    {
     "data": {
      "text/html": [
       "<div>\n",
       "<style scoped>\n",
       "    .dataframe tbody tr th:only-of-type {\n",
       "        vertical-align: middle;\n",
       "    }\n",
       "\n",
       "    .dataframe tbody tr th {\n",
       "        vertical-align: top;\n",
       "    }\n",
       "\n",
       "    .dataframe thead th {\n",
       "        text-align: right;\n",
       "    }\n",
       "</style>\n",
       "<table border=\"1\" class=\"dataframe\">\n",
       "  <thead>\n",
       "    <tr style=\"text-align: right;\">\n",
       "      <th></th>\n",
       "      <th>Id Number</th>\n",
       "      <th>Clump Thickness</th>\n",
       "      <th>Uniformity of Cell Size</th>\n",
       "      <th>Uniformity of Cell Shape</th>\n",
       "      <th>Marginal Adhesion</th>\n",
       "      <th>Single Epithelial Cell Size</th>\n",
       "      <th>Bare Nuclei</th>\n",
       "      <th>Bland Chromatin</th>\n",
       "      <th>Normal Nucleoli</th>\n",
       "      <th>Mitoses</th>\n",
       "      <th>Class</th>\n",
       "    </tr>\n",
       "  </thead>\n",
       "  <tbody>\n",
       "    <tr>\n",
       "      <th>693</th>\n",
       "      <td>776715</td>\n",
       "      <td>3</td>\n",
       "      <td>1</td>\n",
       "      <td>1</td>\n",
       "      <td>1</td>\n",
       "      <td>3</td>\n",
       "      <td>2</td>\n",
       "      <td>1</td>\n",
       "      <td>1</td>\n",
       "      <td>1</td>\n",
       "      <td>2</td>\n",
       "    </tr>\n",
       "    <tr>\n",
       "      <th>694</th>\n",
       "      <td>841769</td>\n",
       "      <td>2</td>\n",
       "      <td>1</td>\n",
       "      <td>1</td>\n",
       "      <td>1</td>\n",
       "      <td>2</td>\n",
       "      <td>1</td>\n",
       "      <td>1</td>\n",
       "      <td>1</td>\n",
       "      <td>1</td>\n",
       "      <td>2</td>\n",
       "    </tr>\n",
       "    <tr>\n",
       "      <th>695</th>\n",
       "      <td>888820</td>\n",
       "      <td>5</td>\n",
       "      <td>10</td>\n",
       "      <td>10</td>\n",
       "      <td>3</td>\n",
       "      <td>7</td>\n",
       "      <td>3</td>\n",
       "      <td>8</td>\n",
       "      <td>10</td>\n",
       "      <td>2</td>\n",
       "      <td>4</td>\n",
       "    </tr>\n",
       "    <tr>\n",
       "      <th>696</th>\n",
       "      <td>897471</td>\n",
       "      <td>4</td>\n",
       "      <td>8</td>\n",
       "      <td>6</td>\n",
       "      <td>4</td>\n",
       "      <td>3</td>\n",
       "      <td>4</td>\n",
       "      <td>10</td>\n",
       "      <td>6</td>\n",
       "      <td>1</td>\n",
       "      <td>4</td>\n",
       "    </tr>\n",
       "    <tr>\n",
       "      <th>697</th>\n",
       "      <td>897471</td>\n",
       "      <td>4</td>\n",
       "      <td>8</td>\n",
       "      <td>8</td>\n",
       "      <td>5</td>\n",
       "      <td>4</td>\n",
       "      <td>5</td>\n",
       "      <td>10</td>\n",
       "      <td>4</td>\n",
       "      <td>1</td>\n",
       "      <td>4</td>\n",
       "    </tr>\n",
       "  </tbody>\n",
       "</table>\n",
       "</div>"
      ],
      "text/plain": [
       "     Id Number  Clump Thickness  Uniformity of Cell Size  \\\n",
       "693     776715                3                        1   \n",
       "694     841769                2                        1   \n",
       "695     888820                5                       10   \n",
       "696     897471                4                        8   \n",
       "697     897471                4                        8   \n",
       "\n",
       "     Uniformity of Cell Shape  Marginal Adhesion  Single Epithelial Cell Size  \\\n",
       "693                         1                  1                            3   \n",
       "694                         1                  1                            2   \n",
       "695                        10                  3                            7   \n",
       "696                         6                  4                            3   \n",
       "697                         8                  5                            4   \n",
       "\n",
       "    Bare Nuclei  Bland Chromatin  Normal Nucleoli  Mitoses  Class  \n",
       "693           2                1                1        1      2  \n",
       "694           1                1                1        1      2  \n",
       "695           3                8               10        2      4  \n",
       "696           4               10                6        1      4  \n",
       "697           5               10                4        1      4  "
      ]
     },
     "execution_count": 13,
     "metadata": {},
     "output_type": "execute_result"
    }
   ],
   "source": [
    "#Printing the last 5 rows of the data set\n",
    "Data_set.tail()"
   ]
  },
  {
   "cell_type": "code",
   "execution_count": 14,
   "id": "040b372b-6232-4d49-9043-05bea18e5432",
   "metadata": {},
   "outputs": [
    {
     "data": {
      "text/plain": [
       "Id Number                      0\n",
       "Clump Thickness                0\n",
       "Uniformity of Cell Size        0\n",
       "Uniformity of Cell Shape       0\n",
       "Marginal Adhesion              0\n",
       "Single Epithelial Cell Size    0\n",
       "Bare Nuclei                    0\n",
       "Bland Chromatin                0\n",
       "Normal Nucleoli                0\n",
       "Mitoses                        0\n",
       "Class                          0\n",
       "dtype: int64"
      ]
     },
     "execution_count": 14,
     "metadata": {},
     "output_type": "execute_result"
    }
   ],
   "source": [
    "#Checking for null values\n",
    "Data_set.isna().sum()"
   ]
  },
  {
   "cell_type": "code",
   "execution_count": 15,
   "id": "52336145-a658-40d3-b516-acc72c1bba87",
   "metadata": {},
   "outputs": [],
   "source": [
    "#Data_set = Data_set.apply(pd.to_numeric)"
   ]
  },
  {
   "cell_type": "code",
   "execution_count": 16,
   "id": "8aada30b-f943-4039-a67f-7b2fbb66a7f1",
   "metadata": {},
   "outputs": [
    {
     "name": "stdout",
     "output_type": "stream",
     "text": [
      "<class 'pandas.core.frame.DataFrame'>\n",
      "RangeIndex: 698 entries, 0 to 697\n",
      "Data columns (total 11 columns):\n",
      " #   Column                       Non-Null Count  Dtype \n",
      "---  ------                       --------------  ----- \n",
      " 0   Id Number                    698 non-null    int64 \n",
      " 1   Clump Thickness              698 non-null    int64 \n",
      " 2   Uniformity of Cell Size      698 non-null    int64 \n",
      " 3   Uniformity of Cell Shape     698 non-null    int64 \n",
      " 4   Marginal Adhesion            698 non-null    int64 \n",
      " 5   Single Epithelial Cell Size  698 non-null    int64 \n",
      " 6   Bare Nuclei                  698 non-null    object\n",
      " 7   Bland Chromatin              698 non-null    int64 \n",
      " 8   Normal Nucleoli              698 non-null    int64 \n",
      " 9   Mitoses                      698 non-null    int64 \n",
      " 10  Class                        698 non-null    int64 \n",
      "dtypes: int64(10), object(1)\n",
      "memory usage: 60.1+ KB\n"
     ]
    }
   ],
   "source": [
    "#Checking for the Dataset info\n",
    "Data_set.info()"
   ]
  },
  {
   "cell_type": "code",
   "execution_count": 17,
   "id": "333b8614-7b72-4d51-a49c-dd86e8cf9d6c",
   "metadata": {},
   "outputs": [
    {
     "data": {
      "text/html": [
       "<div>\n",
       "<style scoped>\n",
       "    .dataframe tbody tr th:only-of-type {\n",
       "        vertical-align: middle;\n",
       "    }\n",
       "\n",
       "    .dataframe tbody tr th {\n",
       "        vertical-align: top;\n",
       "    }\n",
       "\n",
       "    .dataframe thead th {\n",
       "        text-align: right;\n",
       "    }\n",
       "</style>\n",
       "<table border=\"1\" class=\"dataframe\">\n",
       "  <thead>\n",
       "    <tr style=\"text-align: right;\">\n",
       "      <th></th>\n",
       "      <th>Id Number</th>\n",
       "      <th>Clump Thickness</th>\n",
       "      <th>Uniformity of Cell Size</th>\n",
       "      <th>Uniformity of Cell Shape</th>\n",
       "      <th>Marginal Adhesion</th>\n",
       "      <th>Single Epithelial Cell Size</th>\n",
       "      <th>Bland Chromatin</th>\n",
       "      <th>Normal Nucleoli</th>\n",
       "      <th>Mitoses</th>\n",
       "      <th>Class</th>\n",
       "    </tr>\n",
       "  </thead>\n",
       "  <tbody>\n",
       "    <tr>\n",
       "      <th>count</th>\n",
       "      <td>6.980000e+02</td>\n",
       "      <td>698.000000</td>\n",
       "      <td>698.000000</td>\n",
       "      <td>698.000000</td>\n",
       "      <td>698.000000</td>\n",
       "      <td>698.000000</td>\n",
       "      <td>698.000000</td>\n",
       "      <td>698.000000</td>\n",
       "      <td>698.000000</td>\n",
       "      <td>698.000000</td>\n",
       "    </tr>\n",
       "    <tr>\n",
       "      <th>mean</th>\n",
       "      <td>1.071807e+06</td>\n",
       "      <td>4.416905</td>\n",
       "      <td>3.137536</td>\n",
       "      <td>3.210602</td>\n",
       "      <td>2.809456</td>\n",
       "      <td>3.217765</td>\n",
       "      <td>3.438395</td>\n",
       "      <td>2.869628</td>\n",
       "      <td>1.590258</td>\n",
       "      <td>2.690544</td>\n",
       "    </tr>\n",
       "    <tr>\n",
       "      <th>std</th>\n",
       "      <td>6.175323e+05</td>\n",
       "      <td>2.817673</td>\n",
       "      <td>3.052575</td>\n",
       "      <td>2.972867</td>\n",
       "      <td>2.856606</td>\n",
       "      <td>2.215408</td>\n",
       "      <td>2.440056</td>\n",
       "      <td>3.055004</td>\n",
       "      <td>1.716162</td>\n",
       "      <td>0.951596</td>\n",
       "    </tr>\n",
       "    <tr>\n",
       "      <th>min</th>\n",
       "      <td>6.163400e+04</td>\n",
       "      <td>1.000000</td>\n",
       "      <td>1.000000</td>\n",
       "      <td>1.000000</td>\n",
       "      <td>1.000000</td>\n",
       "      <td>1.000000</td>\n",
       "      <td>1.000000</td>\n",
       "      <td>1.000000</td>\n",
       "      <td>1.000000</td>\n",
       "      <td>2.000000</td>\n",
       "    </tr>\n",
       "    <tr>\n",
       "      <th>25%</th>\n",
       "      <td>8.702582e+05</td>\n",
       "      <td>2.000000</td>\n",
       "      <td>1.000000</td>\n",
       "      <td>1.000000</td>\n",
       "      <td>1.000000</td>\n",
       "      <td>2.000000</td>\n",
       "      <td>2.000000</td>\n",
       "      <td>1.000000</td>\n",
       "      <td>1.000000</td>\n",
       "      <td>2.000000</td>\n",
       "    </tr>\n",
       "    <tr>\n",
       "      <th>50%</th>\n",
       "      <td>1.171710e+06</td>\n",
       "      <td>4.000000</td>\n",
       "      <td>1.000000</td>\n",
       "      <td>1.000000</td>\n",
       "      <td>1.000000</td>\n",
       "      <td>2.000000</td>\n",
       "      <td>3.000000</td>\n",
       "      <td>1.000000</td>\n",
       "      <td>1.000000</td>\n",
       "      <td>2.000000</td>\n",
       "    </tr>\n",
       "    <tr>\n",
       "      <th>75%</th>\n",
       "      <td>1.238354e+06</td>\n",
       "      <td>6.000000</td>\n",
       "      <td>5.000000</td>\n",
       "      <td>5.000000</td>\n",
       "      <td>4.000000</td>\n",
       "      <td>4.000000</td>\n",
       "      <td>5.000000</td>\n",
       "      <td>4.000000</td>\n",
       "      <td>1.000000</td>\n",
       "      <td>4.000000</td>\n",
       "    </tr>\n",
       "    <tr>\n",
       "      <th>max</th>\n",
       "      <td>1.345435e+07</td>\n",
       "      <td>10.000000</td>\n",
       "      <td>10.000000</td>\n",
       "      <td>10.000000</td>\n",
       "      <td>10.000000</td>\n",
       "      <td>10.000000</td>\n",
       "      <td>10.000000</td>\n",
       "      <td>10.000000</td>\n",
       "      <td>10.000000</td>\n",
       "      <td>4.000000</td>\n",
       "    </tr>\n",
       "  </tbody>\n",
       "</table>\n",
       "</div>"
      ],
      "text/plain": [
       "          Id Number  Clump Thickness  Uniformity of Cell Size  \\\n",
       "count  6.980000e+02       698.000000               698.000000   \n",
       "mean   1.071807e+06         4.416905                 3.137536   \n",
       "std    6.175323e+05         2.817673                 3.052575   \n",
       "min    6.163400e+04         1.000000                 1.000000   \n",
       "25%    8.702582e+05         2.000000                 1.000000   \n",
       "50%    1.171710e+06         4.000000                 1.000000   \n",
       "75%    1.238354e+06         6.000000                 5.000000   \n",
       "max    1.345435e+07        10.000000                10.000000   \n",
       "\n",
       "       Uniformity of Cell Shape  Marginal Adhesion  \\\n",
       "count                698.000000         698.000000   \n",
       "mean                   3.210602           2.809456   \n",
       "std                    2.972867           2.856606   \n",
       "min                    1.000000           1.000000   \n",
       "25%                    1.000000           1.000000   \n",
       "50%                    1.000000           1.000000   \n",
       "75%                    5.000000           4.000000   \n",
       "max                   10.000000          10.000000   \n",
       "\n",
       "       Single Epithelial Cell Size  Bland Chromatin  Normal Nucleoli  \\\n",
       "count                   698.000000       698.000000       698.000000   \n",
       "mean                      3.217765         3.438395         2.869628   \n",
       "std                       2.215408         2.440056         3.055004   \n",
       "min                       1.000000         1.000000         1.000000   \n",
       "25%                       2.000000         2.000000         1.000000   \n",
       "50%                       2.000000         3.000000         1.000000   \n",
       "75%                       4.000000         5.000000         4.000000   \n",
       "max                      10.000000        10.000000        10.000000   \n",
       "\n",
       "          Mitoses       Class  \n",
       "count  698.000000  698.000000  \n",
       "mean     1.590258    2.690544  \n",
       "std      1.716162    0.951596  \n",
       "min      1.000000    2.000000  \n",
       "25%      1.000000    2.000000  \n",
       "50%      1.000000    2.000000  \n",
       "75%      1.000000    4.000000  \n",
       "max     10.000000    4.000000  "
      ]
     },
     "execution_count": 17,
     "metadata": {},
     "output_type": "execute_result"
    }
   ],
   "source": [
    "#Checking Statistical Relationship of the Features\n",
    "Data_set.describe()"
   ]
  },
  {
   "cell_type": "code",
   "execution_count": 18,
   "id": "d86d6baa-a9b8-4b97-90d6-2f96f8e2a9ed",
   "metadata": {},
   "outputs": [
    {
     "data": {
      "text/plain": [
       "2    457\n",
       "4    241\n",
       "Name: Class, dtype: int64"
      ]
     },
     "execution_count": 18,
     "metadata": {},
     "output_type": "execute_result"
    }
   ],
   "source": [
    "#Counting the values of the Target\n",
    "Data_set[\"Class\"].value_counts()"
   ]
  },
  {
   "cell_type": "markdown",
   "id": "c9563689-f5eb-468e-ad5a-ee5e0f25802a",
   "metadata": {},
   "source": [
    "###### 2 for benigh\n",
    "###### 4 for malignant"
   ]
  },
  {
   "cell_type": "code",
   "execution_count": 19,
   "id": "3a26ef33-2e3d-4790-9e2a-b844eaa0fedf",
   "metadata": {},
   "outputs": [
    {
     "data": {
      "text/plain": [
       "<AxesSubplot:>"
      ]
     },
     "execution_count": 19,
     "metadata": {},
     "output_type": "execute_result"
    },
    {
     "data": {
      "image/png": "[encoded data removed]",
      "text/plain": [
       "<Figure size 432x288 with 1 Axes>"
      ]
     },
     "metadata": {
      "needs_background": "light"
     },
     "output_type": "display_data"
    }
   ],
   "source": [
    "#Ploting the Bar chat for the Cancer class\n",
    "Data_set[\"Class\"].value_counts().plot.bar(color=[\"Red\",\"Green\"])"
   ]
  },
  {
   "cell_type": "code",
   "execution_count": 20,
   "id": "1eb1be9d-ab5f-4fc0-9c80-753b293eaff5",
   "metadata": {},
   "outputs": [],
   "source": [
    "#Spliting the data into target and features\n",
    "X = Data_set.drop([\"Id Number\",\"Class\",'Bare Nuclei'],axis=1)\n",
    "Y = Data_set[\"Class\"]"
   ]
  },
  {
   "cell_type": "code",
   "execution_count": 21,
   "id": "b8a0d53b-0b78-4393-ba80-d8d8cb1f74fa",
   "metadata": {},
   "outputs": [
    {
     "data": {
      "text/plain": [
       "((698, 8), (698,))"
      ]
     },
     "execution_count": 21,
     "metadata": {},
     "output_type": "execute_result"
    }
   ],
   "source": [
    "#Checking for the shape of features and Target Class\n",
    "X.shape,Y.shape"
   ]
  },
  {
   "cell_type": "code",
   "execution_count": 22,
   "id": "59a22436-f8f6-4944-ad38-96b891ad2339",
   "metadata": {},
   "outputs": [],
   "source": [
    "#Spliting the Data into Train and Test\n",
    "x_train,x_test,y_train,y_test = train_test_split(X,Y,test_size=0.2,stratify=Y,random_state=1234,shuffle=True)"
   ]
  },
  {
   "cell_type": "code",
   "execution_count": 23,
   "id": "4a9fc0b1-c426-44cc-ab3a-77dc12231267",
   "metadata": {},
   "outputs": [
    {
     "data": {
      "text/plain": [
       "((558, 8), (558,), (140, 8), (140,))"
      ]
     },
     "execution_count": 23,
     "metadata": {},
     "output_type": "execute_result"
    }
   ],
   "source": [
    "# Checking the Shape of the Test and Train Data\n",
    "x_train.shape,y_train.shape,x_test.shape,y_test.shape"
   ]
  },
  {
   "cell_type": "markdown",
   "id": "1a90eddf-2f35-459b-ba9e-d19b7c157ba4",
   "metadata": {},
   "source": [
    "#### MODELLING"
   ]
  },
  {
   "cell_type": "code",
   "execution_count": 24,
   "id": "040d3734-ed6b-49fe-b59f-144eb73c2bd6",
   "metadata": {},
   "outputs": [],
   "source": [
    "#Loading all the algorithm in a single list for comparison\n",
    "models = [KNeighborsClassifier(),GaussianNB(),SVC(),LogisticRegression(),RandomForestClassifier(),DecisionTreeClassifier()]"
   ]
  },
  {
   "cell_type": "code",
   "execution_count": 25,
   "id": "46f2f18e-d1d3-422a-b058-bc639c2023e0",
   "metadata": {},
   "outputs": [],
   "source": [
    "def tr_tes_comp():\n",
    "    for model in models:\n",
    "        model.fit(x_train,y_train)\n",
    "        predic_test_train = model.predict(x_test)\n",
    "        Acc_test_train = accuracy_score(y_test,predic_test_train)\n",
    "        print(\"The Accuracy Score for the \",model,\"= \",Acc_test_train)"
   ]
  },
  {
   "cell_type": "code",
   "execution_count": 26,
   "id": "c9608264-3ea0-4eab-a6bd-104d58d8a73a",
   "metadata": {},
   "outputs": [
    {
     "name": "stdout",
     "output_type": "stream",
     "text": [
      "The Accuracy Score for the  KNeighborsClassifier() =  0.9571428571428572\n",
      "The Accuracy Score for the  GaussianNB() =  0.9642857142857143\n",
      "The Accuracy Score for the  SVC() =  0.9642857142857143\n",
      "The Accuracy Score for the  LogisticRegression() =  0.9642857142857143\n",
      "The Accuracy Score for the  RandomForestClassifier() =  0.9642857142857143\n",
      "The Accuracy Score for the  DecisionTreeClassifier() =  0.9357142857142857\n"
     ]
    }
   ],
   "source": [
    "tr_tes_comp()"
   ]
  },
  {
   "cell_type": "markdown",
   "id": "fee98e19-8a3e-4f4a-aa55-d09d9b3b479a",
   "metadata": {},
   "source": [
    "###### As we see all the model perfoam well but the Support Vector is much better but try try cross validation to split the into k-fold "
   ]
  },
  {
   "cell_type": "code",
   "execution_count": 27,
   "id": "e1c3b8ca-accd-41d7-a49a-517e47e623c3",
   "metadata": {},
   "outputs": [],
   "source": [
    "#Loading all the algorithm in a single list for comparison\n",
    "models = [KNeighborsClassifier(),GaussianNB(),SVC(),LogisticRegression(),RandomForestClassifier(),DecisionTreeClassifier()]"
   ]
  },
  {
   "cell_type": "code",
   "execution_count": 28,
   "id": "66418824-cd2f-4ff3-a9ce-cacc5c10c0e3",
   "metadata": {},
   "outputs": [],
   "source": [
    "def cv_score_comp():\n",
    "    for model in models:\n",
    "        cv_score = cross_val_score(model,X,Y,cv=5)\n",
    "        mean_acc_score = sum(cv_score)/ len(cv_score)\n",
    "        mean_acc_score = mean_acc_score * 100\n",
    "        mean_acc_score = round(mean_acc_score,2)\n",
    "        print(\"The Cross Validation Score for \",model,\"=\",cv_score)\n",
    "        print(\"The mean Accuracy Score for \",model,\"= \",mean_acc_score)"
   ]
  },
  {
   "cell_type": "code",
   "execution_count": 29,
   "id": "61bf3865-185f-4b31-84e9-cc3223cee070",
   "metadata": {},
   "outputs": [
    {
     "name": "stdout",
     "output_type": "stream",
     "text": [
      "The Cross Validation Score for  KNeighborsClassifier() = [0.93571429 0.93571429 0.94285714 0.98561151 0.97122302]\n",
      "The mean Accuracy Score for  KNeighborsClassifier() =  95.42\n",
      "The Cross Validation Score for  GaussianNB() = [0.92857143 0.92857143 0.97142857 0.96402878 0.97841727]\n",
      "The mean Accuracy Score for  GaussianNB() =  95.42\n",
      "The Cross Validation Score for  SVC() = [0.91428571 0.93571429 0.97142857 0.97841727 0.97841727]\n",
      "The mean Accuracy Score for  SVC() =  95.57\n",
      "The Cross Validation Score for  LogisticRegression() = [0.91428571 0.92857143 0.95714286 0.98561151 0.97122302]\n",
      "The mean Accuracy Score for  LogisticRegression() =  95.14\n",
      "The Cross Validation Score for  RandomForestClassifier() = [0.92857143 0.93571429 0.96428571 0.97841727 0.97841727]\n",
      "The mean Accuracy Score for  RandomForestClassifier() =  95.71\n",
      "The Cross Validation Score for  DecisionTreeClassifier() = [0.89285714 0.93571429 0.88571429 0.94964029 0.9352518 ]\n",
      "The mean Accuracy Score for  DecisionTreeClassifier() =  91.98\n"
     ]
    }
   ],
   "source": [
    "cv_score_comp()"
   ]
  },
  {
   "cell_type": "markdown",
   "id": "16532fd9-82a7-4629-8a2a-85604daa118f",
   "metadata": {},
   "source": [
    "###### As we see All the models perfoam well Again but the Logistic Regression is Excellent so let try Hyperparameter tunning to used Different parameters of Logistic Regression Parameter to find the best Parameter Combination"
   ]
  },
  {
   "cell_type": "markdown",
   "id": "05c6ea67-05a5-4539-b851-0551e2806e55",
   "metadata": {},
   "source": [
    "### HYPERPARAMETER TUNNING"
   ]
  },
  {
   "cell_type": "code",
   "execution_count": 30,
   "id": "fd8c38e4-cf14-40fe-af20-b5462a19d2e0",
   "metadata": {},
   "outputs": [],
   "source": [
    "LOG = LogisticRegression()"
   ]
  },
  {
   "cell_type": "code",
   "execution_count": 31,
   "id": "edf09d04-1e75-4630-97e8-84e55f3901d6",
   "metadata": {},
   "outputs": [],
   "source": [
    "params = {\n",
    "\"penalty\":['l1', 'l2', 'elasticnet', 'none'],\n",
    "\"solver\":['newton-cg', 'lbfgs', 'liblinear', 'sag', 'saga'],\n",
    "\"C\":[2,5,10,15,20,30]\n",
    "}"
   ]
  },
  {
   "cell_type": "code",
   "execution_count": 32,
   "id": "d7d63c20-4e58-4a5e-9148-d2f9262df944",
   "metadata": {},
   "outputs": [],
   "source": [
    "#Loading Gridsearch Parameters\n",
    "GRD = GridSearchCV(LOG,params,cv=5)"
   ]
  },
  {
   "cell_type": "code",
   "execution_count": 33,
   "id": "bec90b0c-1a1c-4ae2-821c-3ee8b13f2feb",
   "metadata": {},
   "outputs": [
    {
     "data": {
      "text/plain": [
       "GridSearchCV(cv=5, estimator=LogisticRegression(),\n",
       "             param_grid={'C': [2, 5, 10, 15, 20, 30],\n",
       "                         'penalty': ['l1', 'l2', 'elasticnet', 'none'],\n",
       "                         'solver': ['newton-cg', 'lbfgs', 'liblinear', 'sag',\n",
       "                                    'saga']})"
      ]
     },
     "execution_count": 33,
     "metadata": {},
     "output_type": "execute_result"
    }
   ],
   "source": [
    "#Fitting the Data into the Grid Search \n",
    "GRD.fit(X,Y)"
   ]
  },
  {
   "cell_type": "code",
   "execution_count": 34,
   "id": "ad2e2e59-2de3-4e0a-944f-647ebed0c933",
   "metadata": {},
   "outputs": [
    {
     "data": {
      "text/plain": [
       "{'C': 2, 'penalty': 'l2', 'solver': 'liblinear'}"
      ]
     },
     "execution_count": 34,
     "metadata": {},
     "output_type": "execute_result"
    }
   ],
   "source": [
    "#The for the best parameters\n",
    "GRD.best_params_"
   ]
  },
  {
   "cell_type": "code",
   "execution_count": 35,
   "id": "635dcb07-2429-48da-b182-64f7c2eecc96",
   "metadata": {},
   "outputs": [
    {
     "data": {
      "text/plain": [
       "0.9570914696813977"
      ]
     },
     "execution_count": 35,
     "metadata": {},
     "output_type": "execute_result"
    }
   ],
   "source": [
    "#Check for the best score\n",
    "GRD.best_score_"
   ]
  },
  {
   "cell_type": "code",
   "execution_count": 36,
   "id": "85cb6723-5e9c-44d4-904d-5b8768b42bd4",
   "metadata": {},
   "outputs": [
    {
     "data": {
      "text/plain": [
       "{'mean_fit_time': array([0.00663743, 0.        , 0.01250381, 0.        , 0.03333392,\n",
       "        0.03055558, 0.01562595, 0.00624909, 0.01562524, 0.01977649,\n",
       "        0.        , 0.        , 0.        , 0.        , 0.00312538,\n",
       "        0.01874976, 0.01562519, 0.        , 0.01562481, 0.02025414,\n",
       "        0.        , 0.00312648, 0.00625401, 0.00312538, 0.01562395,\n",
       "        0.02187028, 0.01562476, 0.00312552, 0.01249948, 0.01771283,\n",
       "        0.0031292 , 0.        , 0.        , 0.        , 0.        ,\n",
       "        0.02499895, 0.00625105, 0.003126  , 0.00937524, 0.01562967,\n",
       "        0.        , 0.        , 0.009377  , 0.        , 0.01562514,\n",
       "        0.01648684, 0.0124999 , 0.00937953, 0.015625  , 0.01691542,\n",
       "        0.        , 0.        , 0.        , 0.        , 0.        ,\n",
       "        0.02187443, 0.01875024, 0.        , 0.01562419, 0.01562533,\n",
       "        0.00312529, 0.        , 0.00312743, 0.        , 0.01874733,\n",
       "        0.02187376, 0.01562777, 0.00624976, 0.015623  , 0.01803713,\n",
       "        0.        , 0.        , 0.        , 0.        , 0.        ,\n",
       "        0.02500005, 0.0156261 , 0.        , 0.015625  , 0.01874933,\n",
       "        0.        , 0.00312543, 0.00312467, 0.        , 0.01563039,\n",
       "        0.01874642, 0.01562467, 0.00625186, 0.01249814, 0.01803136,\n",
       "        0.        , 0.        , 0.00313077, 0.        , 0.00312467,\n",
       "        0.02811871, 0.01874909, 0.        , 0.01250143, 0.0218749 ,\n",
       "        0.        , 0.00312648, 0.0062479 , 0.        , 0.01562281,\n",
       "        0.02812486, 0.01784492, 0.00624933, 0.01562314, 0.01874862,\n",
       "        0.        , 0.        , 0.00312562, 0.        , 0.        ,\n",
       "        0.03124919, 0.01562567, 0.00312467, 0.01562476, 0.0187521 ]),\n",
       " 'std_fit_time': array([7.34920798e-03, 0.00000000e+00, 1.16974631e-02, 0.00000000e+00,\n",
       "        2.88574008e-02, 1.58580204e-02, 2.01742132e-06, 1.24981880e-02,\n",
       "        1.84061614e-06, 4.04130351e-03, 0.00000000e+00, 0.00000000e+00,\n",
       "        0.00000000e+00, 0.00000000e+00, 6.25076294e-03, 6.24761613e-03,\n",
       "        7.89305942e-07, 0.00000000e+00, 9.81867804e-07, 8.49629344e-03,\n",
       "        0.00000000e+00, 6.25295639e-03, 7.65956300e-03, 6.25076294e-03,\n",
       "        3.27111681e-06, 7.64984806e-03, 7.83523403e-07, 6.25104904e-03,\n",
       "        6.24973829e-03, 9.39263877e-03, 6.25839233e-03, 0.00000000e+00,\n",
       "        0.00000000e+00, 0.00000000e+00, 0.00000000e+00, 7.65292306e-03,\n",
       "        7.65594031e-03, 6.25200272e-03, 7.65485036e-03, 9.32286765e-06,\n",
       "        0.00000000e+00, 0.00000000e+00, 7.65629107e-03, 0.00000000e+00,\n",
       "        4.45428186e-06, 1.70734649e-03, 6.24995511e-03, 7.65835507e-03,\n",
       "        1.53457133e-05, 2.55942470e-03, 0.00000000e+00, 0.00000000e+00,\n",
       "        0.00000000e+00, 0.00000000e+00, 0.00000000e+00, 7.65522061e-03,\n",
       "        6.24856995e-03, 0.00000000e+00, 9.88151462e-03, 2.03760725e-06,\n",
       "        6.25057220e-03, 0.00000000e+00, 6.25486374e-03, 0.00000000e+00,\n",
       "        6.25062023e-03, 7.66297310e-03, 4.94763074e-06, 7.65436380e-03,\n",
       "        2.30958577e-06, 8.67940753e-03, 0.00000000e+00, 0.00000000e+00,\n",
       "        0.00000000e+00, 0.00000000e+00, 0.00000000e+00, 7.65576992e-03,\n",
       "        6.35393341e-06, 0.00000000e+00, 2.86102295e-06, 6.24830733e-03,\n",
       "        0.00000000e+00, 6.25085831e-03, 6.24933243e-03, 0.00000000e+00,\n",
       "        7.89680342e-06, 6.25228221e-03, 3.83431635e-06, 7.65693403e-03,\n",
       "        6.24907112e-03, 5.80073241e-03, 0.00000000e+00, 0.00000000e+00,\n",
       "        6.26153946e-03, 0.00000000e+00, 6.24933243e-03, 6.25603223e-03,\n",
       "        6.25045316e-03, 0.00000000e+00, 6.25071608e-03, 7.65385854e-03,\n",
       "        0.00000000e+00, 6.25295639e-03, 7.65208858e-03, 0.00000000e+00,\n",
       "        6.29605643e-06, 6.24551871e-03, 9.17739583e-03, 7.65383794e-03,\n",
       "        4.68757848e-06, 6.25021547e-03, 0.00000000e+00, 0.00000000e+00,\n",
       "        6.25123978e-03, 0.00000000e+00, 0.00000000e+00, 6.62203043e-06,\n",
       "        1.99703136e-06, 6.24933243e-03, 4.15149667e-06, 6.25205099e-03]),\n",
       " 'mean_score_time': array([0.        , 0.        , 0.        , 0.        , 0.00592685,\n",
       "        0.        , 0.        , 0.006251  , 0.00312409, 0.00061526,\n",
       "        0.        , 0.        , 0.        , 0.        , 0.        ,\n",
       "        0.00312467, 0.        , 0.        , 0.00312901, 0.00040007,\n",
       "        0.        , 0.        , 0.        , 0.        , 0.        ,\n",
       "        0.        , 0.        , 0.        , 0.00312448, 0.00099983,\n",
       "        0.        , 0.        , 0.        , 0.        , 0.        ,\n",
       "        0.        , 0.00312586, 0.        , 0.00312533, 0.00312452,\n",
       "        0.        , 0.        , 0.        , 0.        , 0.0031249 ,\n",
       "        0.00624533, 0.        , 0.        , 0.        , 0.00377374,\n",
       "        0.        , 0.        , 0.        , 0.        , 0.        ,\n",
       "        0.        , 0.        , 0.        , 0.        , 0.        ,\n",
       "        0.        , 0.        , 0.00312576, 0.        , 0.        ,\n",
       "        0.00312438, 0.        , 0.        , 0.        , 0.00040016,\n",
       "        0.        , 0.        , 0.        , 0.        , 0.        ,\n",
       "        0.00312467, 0.00312352, 0.        , 0.        , 0.        ,\n",
       "        0.        , 0.        , 0.        , 0.        , 0.00312452,\n",
       "        0.00624905, 0.        , 0.        , 0.        , 0.00059967,\n",
       "        0.        , 0.        , 0.        , 0.        , 0.        ,\n",
       "        0.00625253, 0.00312495, 0.        , 0.009374  , 0.        ,\n",
       "        0.        , 0.        , 0.        , 0.        , 0.00625291,\n",
       "        0.003124  , 0.00685172, 0.00312643, 0.00625043, 0.00312629,\n",
       "        0.        , 0.        , 0.        , 0.        , 0.        ,\n",
       "        0.        , 0.        , 0.        , 0.        , 0.00624933]),\n",
       " 'std_score_time': array([0.        , 0.        , 0.        , 0.        , 0.00367649,\n",
       "        0.        , 0.        , 0.00765588, 0.00624819, 0.00080923,\n",
       "        0.        , 0.        , 0.        , 0.        , 0.        ,\n",
       "        0.00624933, 0.        , 0.        , 0.00625801, 0.00080013,\n",
       "        0.        , 0.        , 0.        , 0.        , 0.        ,\n",
       "        0.        , 0.        , 0.        , 0.00624895, 0.00126478,\n",
       "        0.        , 0.        , 0.        , 0.        , 0.        ,\n",
       "        0.        , 0.00625172, 0.        , 0.00625067, 0.00624905,\n",
       "        0.        , 0.        , 0.        , 0.        , 0.00624981,\n",
       "        0.00764893, 0.        , 0.        , 0.        , 0.00605627,\n",
       "        0.        , 0.        , 0.        , 0.        , 0.        ,\n",
       "        0.        , 0.        , 0.        , 0.        , 0.        ,\n",
       "        0.        , 0.        , 0.00625153, 0.        , 0.        ,\n",
       "        0.00624876, 0.        , 0.        , 0.        , 0.00080032,\n",
       "        0.        , 0.        , 0.        , 0.        , 0.        ,\n",
       "        0.00624933, 0.00624704, 0.        , 0.        , 0.        ,\n",
       "        0.        , 0.        , 0.        , 0.        , 0.00624905,\n",
       "        0.00765349, 0.        , 0.        , 0.        , 0.00119934,\n",
       "        0.        , 0.        , 0.        , 0.        , 0.        ,\n",
       "        0.00765775, 0.0062499 , 0.        , 0.00765384, 0.        ,\n",
       "        0.        , 0.        , 0.        , 0.        , 0.00765822,\n",
       "        0.006248  , 0.00724926, 0.00625286, 0.00765518, 0.00625257,\n",
       "        0.        , 0.        , 0.        , 0.        , 0.        ,\n",
       "        0.        , 0.        , 0.        , 0.        , 0.00765384]),\n",
       " 'param_C': masked_array(data=[2, 2, 2, 2, 2, 2, 2, 2, 2, 2, 2, 2, 2, 2, 2, 2, 2, 2,\n",
       "                    2, 2, 5, 5, 5, 5, 5, 5, 5, 5, 5, 5, 5, 5, 5, 5, 5, 5,\n",
       "                    5, 5, 5, 5, 10, 10, 10, 10, 10, 10, 10, 10, 10, 10, 10,\n",
       "                    10, 10, 10, 10, 10, 10, 10, 10, 10, 15, 15, 15, 15, 15,\n",
       "                    15, 15, 15, 15, 15, 15, 15, 15, 15, 15, 15, 15, 15, 15,\n",
       "                    15, 20, 20, 20, 20, 20, 20, 20, 20, 20, 20, 20, 20, 20,\n",
       "                    20, 20, 20, 20, 20, 20, 20, 30, 30, 30, 30, 30, 30, 30,\n",
       "                    30, 30, 30, 30, 30, 30, 30, 30, 30, 30, 30, 30, 30],\n",
       "              mask=[False, False, False, False, False, False, False, False,\n",
       "                    False, False, False, False, False, False, False, False,\n",
       "                    False, False, False, False, False, False, False, False,\n",
       "                    False, False, False, False, False, False, False, False,\n",
       "                    False, False, False, False, False, False, False, False,\n",
       "                    False, False, False, False, False, False, False, False,\n",
       "                    False, False, False, False, False, False, False, False,\n",
       "                    False, False, False, False, False, False, False, False,\n",
       "                    False, False, False, False, False, False, False, False,\n",
       "                    False, False, False, False, False, False, False, False,\n",
       "                    False, False, False, False, False, False, False, False,\n",
       "                    False, False, False, False, False, False, False, False,\n",
       "                    False, False, False, False, False, False, False, False,\n",
       "                    False, False, False, False, False, False, False, False,\n",
       "                    False, False, False, False, False, False, False, False],\n",
       "        fill_value='?',\n",
       "             dtype=object),\n",
       " 'param_penalty': masked_array(data=['l1', 'l1', 'l1', 'l1', 'l1', 'l2', 'l2', 'l2', 'l2',\n",
       "                    'l2', 'elasticnet', 'elasticnet', 'elasticnet',\n",
       "                    'elasticnet', 'elasticnet', 'none', 'none', 'none',\n",
       "                    'none', 'none', 'l1', 'l1', 'l1', 'l1', 'l1', 'l2',\n",
       "                    'l2', 'l2', 'l2', 'l2', 'elasticnet', 'elasticnet',\n",
       "                    'elasticnet', 'elasticnet', 'elasticnet', 'none',\n",
       "                    'none', 'none', 'none', 'none', 'l1', 'l1', 'l1', 'l1',\n",
       "                    'l1', 'l2', 'l2', 'l2', 'l2', 'l2', 'elasticnet',\n",
       "                    'elasticnet', 'elasticnet', 'elasticnet', 'elasticnet',\n",
       "                    'none', 'none', 'none', 'none', 'none', 'l1', 'l1',\n",
       "                    'l1', 'l1', 'l1', 'l2', 'l2', 'l2', 'l2', 'l2',\n",
       "                    'elasticnet', 'elasticnet', 'elasticnet', 'elasticnet',\n",
       "                    'elasticnet', 'none', 'none', 'none', 'none', 'none',\n",
       "                    'l1', 'l1', 'l1', 'l1', 'l1', 'l2', 'l2', 'l2', 'l2',\n",
       "                    'l2', 'elasticnet', 'elasticnet', 'elasticnet',\n",
       "                    'elasticnet', 'elasticnet', 'none', 'none', 'none',\n",
       "                    'none', 'none', 'l1', 'l1', 'l1', 'l1', 'l1', 'l2',\n",
       "                    'l2', 'l2', 'l2', 'l2', 'elasticnet', 'elasticnet',\n",
       "                    'elasticnet', 'elasticnet', 'elasticnet', 'none',\n",
       "                    'none', 'none', 'none', 'none'],\n",
       "              mask=[False, False, False, False, False, False, False, False,\n",
       "                    False, False, False, False, False, False, False, False,\n",
       "                    False, False, False, False, False, False, False, False,\n",
       "                    False, False, False, False, False, False, False, False,\n",
       "                    False, False, False, False, False, False, False, False,\n",
       "                    False, False, False, False, False, False, False, False,\n",
       "                    False, False, False, False, False, False, False, False,\n",
       "                    False, False, False, False, False, False, False, False,\n",
       "                    False, False, False, False, False, False, False, False,\n",
       "                    False, False, False, False, False, False, False, False,\n",
       "                    False, False, False, False, False, False, False, False,\n",
       "                    False, False, False, False, False, False, False, False,\n",
       "                    False, False, False, False, False, False, False, False,\n",
       "                    False, False, False, False, False, False, False, False,\n",
       "                    False, False, False, False, False, False, False, False],\n",
       "        fill_value='?',\n",
       "             dtype=object),\n",
       " 'param_solver': masked_array(data=['newton-cg', 'lbfgs', 'liblinear', 'sag', 'saga',\n",
       "                    'newton-cg', 'lbfgs', 'liblinear', 'sag', 'saga',\n",
       "                    'newton-cg', 'lbfgs', 'liblinear', 'sag', 'saga',\n",
       "                    'newton-cg', 'lbfgs', 'liblinear', 'sag', 'saga',\n",
       "                    'newton-cg', 'lbfgs', 'liblinear', 'sag', 'saga',\n",
       "                    'newton-cg', 'lbfgs', 'liblinear', 'sag', 'saga',\n",
       "                    'newton-cg', 'lbfgs', 'liblinear', 'sag', 'saga',\n",
       "                    'newton-cg', 'lbfgs', 'liblinear', 'sag', 'saga',\n",
       "                    'newton-cg', 'lbfgs', 'liblinear', 'sag', 'saga',\n",
       "                    'newton-cg', 'lbfgs', 'liblinear', 'sag', 'saga',\n",
       "                    'newton-cg', 'lbfgs', 'liblinear', 'sag', 'saga',\n",
       "                    'newton-cg', 'lbfgs', 'liblinear', 'sag', 'saga',\n",
       "                    'newton-cg', 'lbfgs', 'liblinear', 'sag', 'saga',\n",
       "                    'newton-cg', 'lbfgs', 'liblinear', 'sag', 'saga',\n",
       "                    'newton-cg', 'lbfgs', 'liblinear', 'sag', 'saga',\n",
       "                    'newton-cg', 'lbfgs', 'liblinear', 'sag', 'saga',\n",
       "                    'newton-cg', 'lbfgs', 'liblinear', 'sag', 'saga',\n",
       "                    'newton-cg', 'lbfgs', 'liblinear', 'sag', 'saga',\n",
       "                    'newton-cg', 'lbfgs', 'liblinear', 'sag', 'saga',\n",
       "                    'newton-cg', 'lbfgs', 'liblinear', 'sag', 'saga',\n",
       "                    'newton-cg', 'lbfgs', 'liblinear', 'sag', 'saga',\n",
       "                    'newton-cg', 'lbfgs', 'liblinear', 'sag', 'saga',\n",
       "                    'newton-cg', 'lbfgs', 'liblinear', 'sag', 'saga',\n",
       "                    'newton-cg', 'lbfgs', 'liblinear', 'sag', 'saga'],\n",
       "              mask=[False, False, False, False, False, False, False, False,\n",
       "                    False, False, False, False, False, False, False, False,\n",
       "                    False, False, False, False, False, False, False, False,\n",
       "                    False, False, False, False, False, False, False, False,\n",
       "                    False, False, False, False, False, False, False, False,\n",
       "                    False, False, False, False, False, False, False, False,\n",
       "                    False, False, False, False, False, False, False, False,\n",
       "                    False, False, False, False, False, False, False, False,\n",
       "                    False, False, False, False, False, False, False, False,\n",
       "                    False, False, False, False, False, False, False, False,\n",
       "                    False, False, False, False, False, False, False, False,\n",
       "                    False, False, False, False, False, False, False, False,\n",
       "                    False, False, False, False, False, False, False, False,\n",
       "                    False, False, False, False, False, False, False, False,\n",
       "                    False, False, False, False, False, False, False, False],\n",
       "        fill_value='?',\n",
       "             dtype=object),\n",
       " 'params': [{'C': 2, 'penalty': 'l1', 'solver': 'newton-cg'},\n",
       "  {'C': 2, 'penalty': 'l1', 'solver': 'lbfgs'},\n",
       "  {'C': 2, 'penalty': 'l1', 'solver': 'liblinear'},\n",
       "  {'C': 2, 'penalty': 'l1', 'solver': 'sag'},\n",
       "  {'C': 2, 'penalty': 'l1', 'solver': 'saga'},\n",
       "  {'C': 2, 'penalty': 'l2', 'solver': 'newton-cg'},\n",
       "  {'C': 2, 'penalty': 'l2', 'solver': 'lbfgs'},\n",
       "  {'C': 2, 'penalty': 'l2', 'solver': 'liblinear'},\n",
       "  {'C': 2, 'penalty': 'l2', 'solver': 'sag'},\n",
       "  {'C': 2, 'penalty': 'l2', 'solver': 'saga'},\n",
       "  {'C': 2, 'penalty': 'elasticnet', 'solver': 'newton-cg'},\n",
       "  {'C': 2, 'penalty': 'elasticnet', 'solver': 'lbfgs'},\n",
       "  {'C': 2, 'penalty': 'elasticnet', 'solver': 'liblinear'},\n",
       "  {'C': 2, 'penalty': 'elasticnet', 'solver': 'sag'},\n",
       "  {'C': 2, 'penalty': 'elasticnet', 'solver': 'saga'},\n",
       "  {'C': 2, 'penalty': 'none', 'solver': 'newton-cg'},\n",
       "  {'C': 2, 'penalty': 'none', 'solver': 'lbfgs'},\n",
       "  {'C': 2, 'penalty': 'none', 'solver': 'liblinear'},\n",
       "  {'C': 2, 'penalty': 'none', 'solver': 'sag'},\n",
       "  {'C': 2, 'penalty': 'none', 'solver': 'saga'},\n",
       "  {'C': 5, 'penalty': 'l1', 'solver': 'newton-cg'},\n",
       "  {'C': 5, 'penalty': 'l1', 'solver': 'lbfgs'},\n",
       "  {'C': 5, 'penalty': 'l1', 'solver': 'liblinear'},\n",
       "  {'C': 5, 'penalty': 'l1', 'solver': 'sag'},\n",
       "  {'C': 5, 'penalty': 'l1', 'solver': 'saga'},\n",
       "  {'C': 5, 'penalty': 'l2', 'solver': 'newton-cg'},\n",
       "  {'C': 5, 'penalty': 'l2', 'solver': 'lbfgs'},\n",
       "  {'C': 5, 'penalty': 'l2', 'solver': 'liblinear'},\n",
       "  {'C': 5, 'penalty': 'l2', 'solver': 'sag'},\n",
       "  {'C': 5, 'penalty': 'l2', 'solver': 'saga'},\n",
       "  {'C': 5, 'penalty': 'elasticnet', 'solver': 'newton-cg'},\n",
       "  {'C': 5, 'penalty': 'elasticnet', 'solver': 'lbfgs'},\n",
       "  {'C': 5, 'penalty': 'elasticnet', 'solver': 'liblinear'},\n",
       "  {'C': 5, 'penalty': 'elasticnet', 'solver': 'sag'},\n",
       "  {'C': 5, 'penalty': 'elasticnet', 'solver': 'saga'},\n",
       "  {'C': 5, 'penalty': 'none', 'solver': 'newton-cg'},\n",
       "  {'C': 5, 'penalty': 'none', 'solver': 'lbfgs'},\n",
       "  {'C': 5, 'penalty': 'none', 'solver': 'liblinear'},\n",
       "  {'C': 5, 'penalty': 'none', 'solver': 'sag'},\n",
       "  {'C': 5, 'penalty': 'none', 'solver': 'saga'},\n",
       "  {'C': 10, 'penalty': 'l1', 'solver': 'newton-cg'},\n",
       "  {'C': 10, 'penalty': 'l1', 'solver': 'lbfgs'},\n",
       "  {'C': 10, 'penalty': 'l1', 'solver': 'liblinear'},\n",
       "  {'C': 10, 'penalty': 'l1', 'solver': 'sag'},\n",
       "  {'C': 10, 'penalty': 'l1', 'solver': 'saga'},\n",
       "  {'C': 10, 'penalty': 'l2', 'solver': 'newton-cg'},\n",
       "  {'C': 10, 'penalty': 'l2', 'solver': 'lbfgs'},\n",
       "  {'C': 10, 'penalty': 'l2', 'solver': 'liblinear'},\n",
       "  {'C': 10, 'penalty': 'l2', 'solver': 'sag'},\n",
       "  {'C': 10, 'penalty': 'l2', 'solver': 'saga'},\n",
       "  {'C': 10, 'penalty': 'elasticnet', 'solver': 'newton-cg'},\n",
       "  {'C': 10, 'penalty': 'elasticnet', 'solver': 'lbfgs'},\n",
       "  {'C': 10, 'penalty': 'elasticnet', 'solver': 'liblinear'},\n",
       "  {'C': 10, 'penalty': 'elasticnet', 'solver': 'sag'},\n",
       "  {'C': 10, 'penalty': 'elasticnet', 'solver': 'saga'},\n",
       "  {'C': 10, 'penalty': 'none', 'solver': 'newton-cg'},\n",
       "  {'C': 10, 'penalty': 'none', 'solver': 'lbfgs'},\n",
       "  {'C': 10, 'penalty': 'none', 'solver': 'liblinear'},\n",
       "  {'C': 10, 'penalty': 'none', 'solver': 'sag'},\n",
       "  {'C': 10, 'penalty': 'none', 'solver': 'saga'},\n",
       "  {'C': 15, 'penalty': 'l1', 'solver': 'newton-cg'},\n",
       "  {'C': 15, 'penalty': 'l1', 'solver': 'lbfgs'},\n",
       "  {'C': 15, 'penalty': 'l1', 'solver': 'liblinear'},\n",
       "  {'C': 15, 'penalty': 'l1', 'solver': 'sag'},\n",
       "  {'C': 15, 'penalty': 'l1', 'solver': 'saga'},\n",
       "  {'C': 15, 'penalty': 'l2', 'solver': 'newton-cg'},\n",
       "  {'C': 15, 'penalty': 'l2', 'solver': 'lbfgs'},\n",
       "  {'C': 15, 'penalty': 'l2', 'solver': 'liblinear'},\n",
       "  {'C': 15, 'penalty': 'l2', 'solver': 'sag'},\n",
       "  {'C': 15, 'penalty': 'l2', 'solver': 'saga'},\n",
       "  {'C': 15, 'penalty': 'elasticnet', 'solver': 'newton-cg'},\n",
       "  {'C': 15, 'penalty': 'elasticnet', 'solver': 'lbfgs'},\n",
       "  {'C': 15, 'penalty': 'elasticnet', 'solver': 'liblinear'},\n",
       "  {'C': 15, 'penalty': 'elasticnet', 'solver': 'sag'},\n",
       "  {'C': 15, 'penalty': 'elasticnet', 'solver': 'saga'},\n",
       "  {'C': 15, 'penalty': 'none', 'solver': 'newton-cg'},\n",
       "  {'C': 15, 'penalty': 'none', 'solver': 'lbfgs'},\n",
       "  {'C': 15, 'penalty': 'none', 'solver': 'liblinear'},\n",
       "  {'C': 15, 'penalty': 'none', 'solver': 'sag'},\n",
       "  {'C': 15, 'penalty': 'none', 'solver': 'saga'},\n",
       "  {'C': 20, 'penalty': 'l1', 'solver': 'newton-cg'},\n",
       "  {'C': 20, 'penalty': 'l1', 'solver': 'lbfgs'},\n",
       "  {'C': 20, 'penalty': 'l1', 'solver': 'liblinear'},\n",
       "  {'C': 20, 'penalty': 'l1', 'solver': 'sag'},\n",
       "  {'C': 20, 'penalty': 'l1', 'solver': 'saga'},\n",
       "  {'C': 20, 'penalty': 'l2', 'solver': 'newton-cg'},\n",
       "  {'C': 20, 'penalty': 'l2', 'solver': 'lbfgs'},\n",
       "  {'C': 20, 'penalty': 'l2', 'solver': 'liblinear'},\n",
       "  {'C': 20, 'penalty': 'l2', 'solver': 'sag'},\n",
       "  {'C': 20, 'penalty': 'l2', 'solver': 'saga'},\n",
       "  {'C': 20, 'penalty': 'elasticnet', 'solver': 'newton-cg'},\n",
       "  {'C': 20, 'penalty': 'elasticnet', 'solver': 'lbfgs'},\n",
       "  {'C': 20, 'penalty': 'elasticnet', 'solver': 'liblinear'},\n",
       "  {'C': 20, 'penalty': 'elasticnet', 'solver': 'sag'},\n",
       "  {'C': 20, 'penalty': 'elasticnet', 'solver': 'saga'},\n",
       "  {'C': 20, 'penalty': 'none', 'solver': 'newton-cg'},\n",
       "  {'C': 20, 'penalty': 'none', 'solver': 'lbfgs'},\n",
       "  {'C': 20, 'penalty': 'none', 'solver': 'liblinear'},\n",
       "  {'C': 20, 'penalty': 'none', 'solver': 'sag'},\n",
       "  {'C': 20, 'penalty': 'none', 'solver': 'saga'},\n",
       "  {'C': 30, 'penalty': 'l1', 'solver': 'newton-cg'},\n",
       "  {'C': 30, 'penalty': 'l1', 'solver': 'lbfgs'},\n",
       "  {'C': 30, 'penalty': 'l1', 'solver': 'liblinear'},\n",
       "  {'C': 30, 'penalty': 'l1', 'solver': 'sag'},\n",
       "  {'C': 30, 'penalty': 'l1', 'solver': 'saga'},\n",
       "  {'C': 30, 'penalty': 'l2', 'solver': 'newton-cg'},\n",
       "  {'C': 30, 'penalty': 'l2', 'solver': 'lbfgs'},\n",
       "  {'C': 30, 'penalty': 'l2', 'solver': 'liblinear'},\n",
       "  {'C': 30, 'penalty': 'l2', 'solver': 'sag'},\n",
       "  {'C': 30, 'penalty': 'l2', 'solver': 'saga'},\n",
       "  {'C': 30, 'penalty': 'elasticnet', 'solver': 'newton-cg'},\n",
       "  {'C': 30, 'penalty': 'elasticnet', 'solver': 'lbfgs'},\n",
       "  {'C': 30, 'penalty': 'elasticnet', 'solver': 'liblinear'},\n",
       "  {'C': 30, 'penalty': 'elasticnet', 'solver': 'sag'},\n",
       "  {'C': 30, 'penalty': 'elasticnet', 'solver': 'saga'},\n",
       "  {'C': 30, 'penalty': 'none', 'solver': 'newton-cg'},\n",
       "  {'C': 30, 'penalty': 'none', 'solver': 'lbfgs'},\n",
       "  {'C': 30, 'penalty': 'none', 'solver': 'liblinear'},\n",
       "  {'C': 30, 'penalty': 'none', 'solver': 'sag'},\n",
       "  {'C': 30, 'penalty': 'none', 'solver': 'saga'}],\n",
       " 'split0_test_score': array([       nan,        nan, 0.91428571,        nan, 0.92857143,\n",
       "        0.91428571, 0.91428571, 0.93571429, 0.93571429, 0.92142857,\n",
       "               nan,        nan,        nan,        nan,        nan,\n",
       "        0.91428571, 0.91428571,        nan, 0.93571429, 0.92142857,\n",
       "               nan,        nan, 0.91428571,        nan, 0.92142857,\n",
       "        0.91428571, 0.91428571, 0.92142857, 0.93571429, 0.92142857,\n",
       "               nan,        nan,        nan,        nan,        nan,\n",
       "        0.91428571, 0.91428571,        nan, 0.93571429, 0.92142857,\n",
       "               nan,        nan, 0.91428571,        nan, 0.92142857,\n",
       "        0.91428571, 0.91428571, 0.91428571, 0.93571429, 0.92142857,\n",
       "               nan,        nan,        nan,        nan,        nan,\n",
       "        0.91428571, 0.91428571,        nan, 0.93571429, 0.92142857,\n",
       "               nan,        nan, 0.91428571,        nan, 0.92142857,\n",
       "        0.91428571, 0.91428571, 0.91428571, 0.93571429, 0.92142857,\n",
       "               nan,        nan,        nan,        nan,        nan,\n",
       "        0.91428571, 0.91428571,        nan, 0.93571429, 0.92142857,\n",
       "               nan,        nan, 0.91428571,        nan, 0.92142857,\n",
       "        0.91428571, 0.91428571, 0.91428571, 0.93571429, 0.92142857,\n",
       "               nan,        nan,        nan,        nan,        nan,\n",
       "        0.91428571, 0.91428571,        nan, 0.93571429, 0.92142857,\n",
       "               nan,        nan, 0.91428571,        nan, 0.92142857,\n",
       "        0.91428571, 0.91428571, 0.91428571, 0.93571429, 0.92142857,\n",
       "               nan,        nan,        nan,        nan,        nan,\n",
       "        0.91428571, 0.91428571,        nan, 0.93571429, 0.92142857]),\n",
       " 'split1_test_score': array([       nan,        nan, 0.92857143,        nan, 0.92142857,\n",
       "        0.92857143, 0.92857143, 0.92857143, 0.92857143, 0.92142857,\n",
       "               nan,        nan,        nan,        nan,        nan,\n",
       "        0.92857143, 0.92857143,        nan, 0.92857143, 0.92142857,\n",
       "               nan,        nan, 0.92857143,        nan, 0.92142857,\n",
       "        0.92857143, 0.92857143, 0.92857143, 0.92857143, 0.92142857,\n",
       "               nan,        nan,        nan,        nan,        nan,\n",
       "        0.92857143, 0.92857143,        nan, 0.92857143, 0.92142857,\n",
       "               nan,        nan, 0.92857143,        nan, 0.92142857,\n",
       "        0.92857143, 0.92857143, 0.92857143, 0.92857143, 0.92142857,\n",
       "               nan,        nan,        nan,        nan,        nan,\n",
       "        0.92857143, 0.92857143,        nan, 0.92857143, 0.92142857,\n",
       "               nan,        nan, 0.92857143,        nan, 0.92142857,\n",
       "        0.92857143, 0.92857143, 0.92857143, 0.92857143, 0.92142857,\n",
       "               nan,        nan,        nan,        nan,        nan,\n",
       "        0.92857143, 0.92857143,        nan, 0.92857143, 0.92142857,\n",
       "               nan,        nan, 0.92857143,        nan, 0.92142857,\n",
       "        0.92857143, 0.92857143, 0.92857143, 0.92857143, 0.92142857,\n",
       "               nan,        nan,        nan,        nan,        nan,\n",
       "        0.92857143, 0.92857143,        nan, 0.92857143, 0.92142857,\n",
       "               nan,        nan, 0.92857143,        nan, 0.92142857,\n",
       "        0.92857143, 0.92857143, 0.92857143, 0.92857143, 0.92142857,\n",
       "               nan,        nan,        nan,        nan,        nan,\n",
       "        0.92857143, 0.92857143,        nan, 0.92857143, 0.92142857]),\n",
       " 'split2_test_score': array([       nan,        nan, 0.95714286,        nan, 0.95714286,\n",
       "        0.95714286, 0.95714286, 0.95714286, 0.95714286, 0.95714286,\n",
       "               nan,        nan,        nan,        nan,        nan,\n",
       "        0.95714286, 0.95714286,        nan, 0.95714286, 0.95714286,\n",
       "               nan,        nan, 0.95714286,        nan, 0.95714286,\n",
       "        0.95714286, 0.95714286, 0.95714286, 0.95714286, 0.95714286,\n",
       "               nan,        nan,        nan,        nan,        nan,\n",
       "        0.95714286, 0.95714286,        nan, 0.95714286, 0.95714286,\n",
       "               nan,        nan, 0.95714286,        nan, 0.95714286,\n",
       "        0.95714286, 0.95714286, 0.95714286, 0.95714286, 0.95714286,\n",
       "               nan,        nan,        nan,        nan,        nan,\n",
       "        0.95714286, 0.95714286,        nan, 0.95714286, 0.95714286,\n",
       "               nan,        nan, 0.95714286,        nan, 0.95714286,\n",
       "        0.95714286, 0.95714286, 0.95714286, 0.95714286, 0.95714286,\n",
       "               nan,        nan,        nan,        nan,        nan,\n",
       "        0.95714286, 0.95714286,        nan, 0.95714286, 0.95714286,\n",
       "               nan,        nan, 0.95714286,        nan, 0.95714286,\n",
       "        0.95714286, 0.95714286, 0.95714286, 0.95714286, 0.95714286,\n",
       "               nan,        nan,        nan,        nan,        nan,\n",
       "        0.95714286, 0.95714286,        nan, 0.95714286, 0.95714286,\n",
       "               nan,        nan, 0.95714286,        nan, 0.95714286,\n",
       "        0.95714286, 0.95714286, 0.95714286, 0.95714286, 0.95714286,\n",
       "               nan,        nan,        nan,        nan,        nan,\n",
       "        0.95714286, 0.95714286,        nan, 0.95714286, 0.95714286]),\n",
       " 'split3_test_score': array([       nan,        nan, 0.98561151,        nan, 0.97841727,\n",
       "        0.98561151, 0.98561151, 0.98561151, 0.98561151, 0.97841727,\n",
       "               nan,        nan,        nan,        nan,        nan,\n",
       "        0.98561151, 0.98561151,        nan, 0.98561151, 0.97841727,\n",
       "               nan,        nan, 0.98561151,        nan, 0.97841727,\n",
       "        0.98561151, 0.98561151, 0.98561151, 0.98561151, 0.97841727,\n",
       "               nan,        nan,        nan,        nan,        nan,\n",
       "        0.98561151, 0.98561151,        nan, 0.98561151, 0.97841727,\n",
       "               nan,        nan, 0.98561151,        nan, 0.97841727,\n",
       "        0.98561151, 0.98561151, 0.98561151, 0.98561151, 0.97841727,\n",
       "               nan,        nan,        nan,        nan,        nan,\n",
       "        0.98561151, 0.98561151,        nan, 0.98561151, 0.97841727,\n",
       "               nan,        nan, 0.98561151,        nan, 0.97841727,\n",
       "        0.98561151, 0.98561151, 0.98561151, 0.98561151, 0.97841727,\n",
       "               nan,        nan,        nan,        nan,        nan,\n",
       "        0.98561151, 0.98561151,        nan, 0.98561151, 0.97841727,\n",
       "               nan,        nan, 0.98561151,        nan, 0.97841727,\n",
       "        0.98561151, 0.98561151, 0.98561151, 0.98561151, 0.97841727,\n",
       "               nan,        nan,        nan,        nan,        nan,\n",
       "        0.98561151, 0.98561151,        nan, 0.98561151, 0.97841727,\n",
       "               nan,        nan, 0.98561151,        nan, 0.97841727,\n",
       "        0.98561151, 0.98561151, 0.98561151, 0.98561151, 0.97841727,\n",
       "               nan,        nan,        nan,        nan,        nan,\n",
       "        0.98561151, 0.98561151,        nan, 0.98561151, 0.97841727]),\n",
       " 'split4_test_score': array([       nan,        nan, 0.97841727,        nan, 0.98561151,\n",
       "        0.97122302, 0.97122302, 0.97841727, 0.97841727, 0.98561151,\n",
       "               nan,        nan,        nan,        nan,        nan,\n",
       "        0.97122302, 0.97122302,        nan, 0.97841727, 0.98561151,\n",
       "               nan,        nan, 0.97122302,        nan, 0.98561151,\n",
       "        0.97122302, 0.97122302, 0.97841727, 0.97841727, 0.98561151,\n",
       "               nan,        nan,        nan,        nan,        nan,\n",
       "        0.97122302, 0.97122302,        nan, 0.97841727, 0.98561151,\n",
       "               nan,        nan, 0.97122302,        nan, 0.98561151,\n",
       "        0.97122302, 0.97122302, 0.97841727, 0.97841727, 0.98561151,\n",
       "               nan,        nan,        nan,        nan,        nan,\n",
       "        0.97122302, 0.97122302,        nan, 0.97841727, 0.98561151,\n",
       "               nan,        nan, 0.97122302,        nan, 0.98561151,\n",
       "        0.97122302, 0.97122302, 0.97841727, 0.97841727, 0.98561151,\n",
       "               nan,        nan,        nan,        nan,        nan,\n",
       "        0.97122302, 0.97122302,        nan, 0.97841727, 0.98561151,\n",
       "               nan,        nan, 0.97122302,        nan, 0.98561151,\n",
       "        0.97122302, 0.97122302, 0.97122302, 0.97841727, 0.98561151,\n",
       "               nan,        nan,        nan,        nan,        nan,\n",
       "        0.97122302, 0.97122302,        nan, 0.97841727, 0.98561151,\n",
       "               nan,        nan, 0.97122302,        nan, 0.98561151,\n",
       "        0.97122302, 0.97122302, 0.97122302, 0.97841727, 0.98561151,\n",
       "               nan,        nan,        nan,        nan,        nan,\n",
       "        0.97122302, 0.97122302,        nan, 0.97841727, 0.98561151]),\n",
       " 'mean_test_score': array([       nan,        nan, 0.95280576,        nan, 0.95423433,\n",
       "        0.95136691, 0.95136691, 0.95709147, 0.95709147, 0.95280576,\n",
       "               nan,        nan,        nan,        nan,        nan,\n",
       "        0.95136691, 0.95136691,        nan, 0.95709147, 0.95280576,\n",
       "               nan,        nan, 0.95136691,        nan, 0.95280576,\n",
       "        0.95136691, 0.95136691, 0.95423433, 0.95709147, 0.95280576,\n",
       "               nan,        nan,        nan,        nan,        nan,\n",
       "        0.95136691, 0.95136691,        nan, 0.95709147, 0.95280576,\n",
       "               nan,        nan, 0.95136691,        nan, 0.95280576,\n",
       "        0.95136691, 0.95136691, 0.95280576, 0.95709147, 0.95280576,\n",
       "               nan,        nan,        nan,        nan,        nan,\n",
       "        0.95136691, 0.95136691,        nan, 0.95709147, 0.95280576,\n",
       "               nan,        nan, 0.95136691,        nan, 0.95280576,\n",
       "        0.95136691, 0.95136691, 0.95280576, 0.95709147, 0.95280576,\n",
       "               nan,        nan,        nan,        nan,        nan,\n",
       "        0.95136691, 0.95136691,        nan, 0.95709147, 0.95280576,\n",
       "               nan,        nan, 0.95136691,        nan, 0.95280576,\n",
       "        0.95136691, 0.95136691, 0.95136691, 0.95709147, 0.95280576,\n",
       "               nan,        nan,        nan,        nan,        nan,\n",
       "        0.95136691, 0.95136691,        nan, 0.95709147, 0.95280576,\n",
       "               nan,        nan, 0.95136691,        nan, 0.95280576,\n",
       "        0.95136691, 0.95136691, 0.95136691, 0.95709147, 0.95280576,\n",
       "               nan,        nan,        nan,        nan,        nan,\n",
       "        0.95136691, 0.95136691,        nan, 0.95709147, 0.95280576]),\n",
       " 'std_test_score': array([       nan,        nan, 0.02764805,        nan, 0.02573948,\n",
       "        0.02643849, 0.02643849, 0.02253247, 0.02253247, 0.02727648,\n",
       "               nan,        nan,        nan,        nan,        nan,\n",
       "        0.02643849, 0.02643849,        nan, 0.02253247, 0.02727648,\n",
       "               nan,        nan, 0.02643849,        nan, 0.02727648,\n",
       "        0.02643849, 0.02643849, 0.02573948, 0.02253247, 0.02727648,\n",
       "               nan,        nan,        nan,        nan,        nan,\n",
       "        0.02643849, 0.02643849,        nan, 0.02253247, 0.02727648,\n",
       "               nan,        nan, 0.02643849,        nan, 0.02727648,\n",
       "        0.02643849, 0.02643849, 0.02764805, 0.02253247, 0.02727648,\n",
       "               nan,        nan,        nan,        nan,        nan,\n",
       "        0.02643849, 0.02643849,        nan, 0.02253247, 0.02727648,\n",
       "               nan,        nan, 0.02643849,        nan, 0.02727648,\n",
       "        0.02643849, 0.02643849, 0.02764805, 0.02253247, 0.02727648,\n",
       "               nan,        nan,        nan,        nan,        nan,\n",
       "        0.02643849, 0.02643849,        nan, 0.02253247, 0.02727648,\n",
       "               nan,        nan, 0.02643849,        nan, 0.02727648,\n",
       "        0.02643849, 0.02643849, 0.02643849, 0.02253247, 0.02727648,\n",
       "               nan,        nan,        nan,        nan,        nan,\n",
       "        0.02643849, 0.02643849,        nan, 0.02253247, 0.02727648,\n",
       "               nan,        nan, 0.02643849,        nan, 0.02727648,\n",
       "        0.02643849, 0.02643849, 0.02643849, 0.02253247, 0.02727648,\n",
       "               nan,        nan,        nan,        nan,        nan,\n",
       "        0.02643849, 0.02643849,        nan, 0.02253247, 0.02727648]),\n",
       " 'rank_test_score': array([120,  81,  16,  73,  14,  36,  36,   1,   1,  16,  67, 111, 107,\n",
       "        108, 114,  36,  36, 115,   1,  16, 104,  97,  36,  96,  16,  36,\n",
       "         36,  14,   1,  16,  85,  88,  89,  90,  91,  36,  36,  92,   1,\n",
       "         16,  93,  94,  36,  95,  16,  36,  36,  16,   1,  16,  98,  99,\n",
       "        100, 101, 102,  36,  36, 103,   1,  16, 118, 117,  36, 116,  16,\n",
       "         36,  36,  16,   1,  16, 113, 119, 112, 110,  86,  36,  36, 109,\n",
       "          1,  16, 106, 105,  36,  87,  16,  36,  36,  36,   1,  16,  68,\n",
       "         69,  72,  84,  74,  36,  36,  78,   1,  16,  80,  82,  36,  83,\n",
       "         16,  36,  36,  36,   1,  16,  79,  77,  76,  75,  70,  36,  36,\n",
       "         71,   1,  16])}"
      ]
     },
     "execution_count": 36,
     "metadata": {},
     "output_type": "execute_result"
    }
   ],
   "source": [
    "#Checking for the whole Cv score\n",
    "GRD.cv_results_"
   ]
  },
  {
   "cell_type": "code",
   "execution_count": 37,
   "id": "49ed49f9-4010-4589-bd16-e441fb6cc35e",
   "metadata": {},
   "outputs": [],
   "source": [
    "Grid_Pram=pd.DataFrame(GRD.cv_results_)"
   ]
  },
  {
   "cell_type": "code",
   "execution_count": 38,
   "id": "ec229b9d-a8d8-4d51-abcb-37b412fee822",
   "metadata": {},
   "outputs": [
    {
     "data": {
      "text/html": [
       "<div>\n",
       "<style scoped>\n",
       "    .dataframe tbody tr th:only-of-type {\n",
       "        vertical-align: middle;\n",
       "    }\n",
       "\n",
       "    .dataframe tbody tr th {\n",
       "        vertical-align: top;\n",
       "    }\n",
       "\n",
       "    .dataframe thead th {\n",
       "        text-align: right;\n",
       "    }\n",
       "</style>\n",
       "<table border=\"1\" class=\"dataframe\">\n",
       "  <thead>\n",
       "    <tr style=\"text-align: right;\">\n",
       "      <th></th>\n",
       "      <th>mean_fit_time</th>\n",
       "      <th>std_fit_time</th>\n",
       "      <th>mean_score_time</th>\n",
       "      <th>std_score_time</th>\n",
       "      <th>param_C</th>\n",
       "      <th>param_penalty</th>\n",
       "      <th>param_solver</th>\n",
       "      <th>params</th>\n",
       "      <th>split0_test_score</th>\n",
       "      <th>split1_test_score</th>\n",
       "      <th>split2_test_score</th>\n",
       "      <th>split3_test_score</th>\n",
       "      <th>split4_test_score</th>\n",
       "      <th>mean_test_score</th>\n",
       "      <th>std_test_score</th>\n",
       "      <th>rank_test_score</th>\n",
       "    </tr>\n",
       "  </thead>\n",
       "  <tbody>\n",
       "    <tr>\n",
       "      <th>0</th>\n",
       "      <td>0.006637</td>\n",
       "      <td>0.007349</td>\n",
       "      <td>0.000000</td>\n",
       "      <td>0.000000</td>\n",
       "      <td>2</td>\n",
       "      <td>l1</td>\n",
       "      <td>newton-cg</td>\n",
       "      <td>{'C': 2, 'penalty': 'l1', 'solver': 'newton-cg'}</td>\n",
       "      <td>NaN</td>\n",
       "      <td>NaN</td>\n",
       "      <td>NaN</td>\n",
       "      <td>NaN</td>\n",
       "      <td>NaN</td>\n",
       "      <td>NaN</td>\n",
       "      <td>NaN</td>\n",
       "      <td>120</td>\n",
       "    </tr>\n",
       "    <tr>\n",
       "      <th>1</th>\n",
       "      <td>0.000000</td>\n",
       "      <td>0.000000</td>\n",
       "      <td>0.000000</td>\n",
       "      <td>0.000000</td>\n",
       "      <td>2</td>\n",
       "      <td>l1</td>\n",
       "      <td>lbfgs</td>\n",
       "      <td>{'C': 2, 'penalty': 'l1', 'solver': 'lbfgs'}</td>\n",
       "      <td>NaN</td>\n",
       "      <td>NaN</td>\n",
       "      <td>NaN</td>\n",
       "      <td>NaN</td>\n",
       "      <td>NaN</td>\n",
       "      <td>NaN</td>\n",
       "      <td>NaN</td>\n",
       "      <td>81</td>\n",
       "    </tr>\n",
       "    <tr>\n",
       "      <th>2</th>\n",
       "      <td>0.012504</td>\n",
       "      <td>0.011697</td>\n",
       "      <td>0.000000</td>\n",
       "      <td>0.000000</td>\n",
       "      <td>2</td>\n",
       "      <td>l1</td>\n",
       "      <td>liblinear</td>\n",
       "      <td>{'C': 2, 'penalty': 'l1', 'solver': 'liblinear'}</td>\n",
       "      <td>0.914286</td>\n",
       "      <td>0.928571</td>\n",
       "      <td>0.957143</td>\n",
       "      <td>0.985612</td>\n",
       "      <td>0.978417</td>\n",
       "      <td>0.952806</td>\n",
       "      <td>0.027648</td>\n",
       "      <td>16</td>\n",
       "    </tr>\n",
       "    <tr>\n",
       "      <th>3</th>\n",
       "      <td>0.000000</td>\n",
       "      <td>0.000000</td>\n",
       "      <td>0.000000</td>\n",
       "      <td>0.000000</td>\n",
       "      <td>2</td>\n",
       "      <td>l1</td>\n",
       "      <td>sag</td>\n",
       "      <td>{'C': 2, 'penalty': 'l1', 'solver': 'sag'}</td>\n",
       "      <td>NaN</td>\n",
       "      <td>NaN</td>\n",
       "      <td>NaN</td>\n",
       "      <td>NaN</td>\n",
       "      <td>NaN</td>\n",
       "      <td>NaN</td>\n",
       "      <td>NaN</td>\n",
       "      <td>73</td>\n",
       "    </tr>\n",
       "    <tr>\n",
       "      <th>4</th>\n",
       "      <td>0.033334</td>\n",
       "      <td>0.028857</td>\n",
       "      <td>0.005927</td>\n",
       "      <td>0.003676</td>\n",
       "      <td>2</td>\n",
       "      <td>l1</td>\n",
       "      <td>saga</td>\n",
       "      <td>{'C': 2, 'penalty': 'l1', 'solver': 'saga'}</td>\n",
       "      <td>0.928571</td>\n",
       "      <td>0.921429</td>\n",
       "      <td>0.957143</td>\n",
       "      <td>0.978417</td>\n",
       "      <td>0.985612</td>\n",
       "      <td>0.954234</td>\n",
       "      <td>0.025739</td>\n",
       "      <td>14</td>\n",
       "    </tr>\n",
       "    <tr>\n",
       "      <th>...</th>\n",
       "      <td>...</td>\n",
       "      <td>...</td>\n",
       "      <td>...</td>\n",
       "      <td>...</td>\n",
       "      <td>...</td>\n",
       "      <td>...</td>\n",
       "      <td>...</td>\n",
       "      <td>...</td>\n",
       "      <td>...</td>\n",
       "      <td>...</td>\n",
       "      <td>...</td>\n",
       "      <td>...</td>\n",
       "      <td>...</td>\n",
       "      <td>...</td>\n",
       "      <td>...</td>\n",
       "      <td>...</td>\n",
       "    </tr>\n",
       "    <tr>\n",
       "      <th>115</th>\n",
       "      <td>0.031249</td>\n",
       "      <td>0.000007</td>\n",
       "      <td>0.000000</td>\n",
       "      <td>0.000000</td>\n",
       "      <td>30</td>\n",
       "      <td>none</td>\n",
       "      <td>newton-cg</td>\n",
       "      <td>{'C': 30, 'penalty': 'none', 'solver': 'newton...</td>\n",
       "      <td>0.914286</td>\n",
       "      <td>0.928571</td>\n",
       "      <td>0.957143</td>\n",
       "      <td>0.985612</td>\n",
       "      <td>0.971223</td>\n",
       "      <td>0.951367</td>\n",
       "      <td>0.026438</td>\n",
       "      <td>36</td>\n",
       "    </tr>\n",
       "    <tr>\n",
       "      <th>116</th>\n",
       "      <td>0.015626</td>\n",
       "      <td>0.000002</td>\n",
       "      <td>0.000000</td>\n",
       "      <td>0.000000</td>\n",
       "      <td>30</td>\n",
       "      <td>none</td>\n",
       "      <td>lbfgs</td>\n",
       "      <td>{'C': 30, 'penalty': 'none', 'solver': 'lbfgs'}</td>\n",
       "      <td>0.914286</td>\n",
       "      <td>0.928571</td>\n",
       "      <td>0.957143</td>\n",
       "      <td>0.985612</td>\n",
       "      <td>0.971223</td>\n",
       "      <td>0.951367</td>\n",
       "      <td>0.026438</td>\n",
       "      <td>36</td>\n",
       "    </tr>\n",
       "    <tr>\n",
       "      <th>117</th>\n",
       "      <td>0.003125</td>\n",
       "      <td>0.006249</td>\n",
       "      <td>0.000000</td>\n",
       "      <td>0.000000</td>\n",
       "      <td>30</td>\n",
       "      <td>none</td>\n",
       "      <td>liblinear</td>\n",
       "      <td>{'C': 30, 'penalty': 'none', 'solver': 'liblin...</td>\n",
       "      <td>NaN</td>\n",
       "      <td>NaN</td>\n",
       "      <td>NaN</td>\n",
       "      <td>NaN</td>\n",
       "      <td>NaN</td>\n",
       "      <td>NaN</td>\n",
       "      <td>NaN</td>\n",
       "      <td>71</td>\n",
       "    </tr>\n",
       "    <tr>\n",
       "      <th>118</th>\n",
       "      <td>0.015625</td>\n",
       "      <td>0.000004</td>\n",
       "      <td>0.000000</td>\n",
       "      <td>0.000000</td>\n",
       "      <td>30</td>\n",
       "      <td>none</td>\n",
       "      <td>sag</td>\n",
       "      <td>{'C': 30, 'penalty': 'none', 'solver': 'sag'}</td>\n",
       "      <td>0.935714</td>\n",
       "      <td>0.928571</td>\n",
       "      <td>0.957143</td>\n",
       "      <td>0.985612</td>\n",
       "      <td>0.978417</td>\n",
       "      <td>0.957091</td>\n",
       "      <td>0.022532</td>\n",
       "      <td>1</td>\n",
       "    </tr>\n",
       "    <tr>\n",
       "      <th>119</th>\n",
       "      <td>0.018752</td>\n",
       "      <td>0.006252</td>\n",
       "      <td>0.006249</td>\n",
       "      <td>0.007654</td>\n",
       "      <td>30</td>\n",
       "      <td>none</td>\n",
       "      <td>saga</td>\n",
       "      <td>{'C': 30, 'penalty': 'none', 'solver': 'saga'}</td>\n",
       "      <td>0.921429</td>\n",
       "      <td>0.921429</td>\n",
       "      <td>0.957143</td>\n",
       "      <td>0.978417</td>\n",
       "      <td>0.985612</td>\n",
       "      <td>0.952806</td>\n",
       "      <td>0.027276</td>\n",
       "      <td>16</td>\n",
       "    </tr>\n",
       "  </tbody>\n",
       "</table>\n",
       "<p>120 rows × 16 columns</p>\n",
       "</div>"
      ],
      "text/plain": [
       "     mean_fit_time  std_fit_time  mean_score_time  std_score_time param_C  \\\n",
       "0         0.006637      0.007349         0.000000        0.000000       2   \n",
       "1         0.000000      0.000000         0.000000        0.000000       2   \n",
       "2         0.012504      0.011697         0.000000        0.000000       2   \n",
       "3         0.000000      0.000000         0.000000        0.000000       2   \n",
       "4         0.033334      0.028857         0.005927        0.003676       2   \n",
       "..             ...           ...              ...             ...     ...   \n",
       "115       0.031249      0.000007         0.000000        0.000000      30   \n",
       "116       0.015626      0.000002         0.000000        0.000000      30   \n",
       "117       0.003125      0.006249         0.000000        0.000000      30   \n",
       "118       0.015625      0.000004         0.000000        0.000000      30   \n",
       "119       0.018752      0.006252         0.006249        0.007654      30   \n",
       "\n",
       "    param_penalty param_solver  \\\n",
       "0              l1    newton-cg   \n",
       "1              l1        lbfgs   \n",
       "2              l1    liblinear   \n",
       "3              l1          sag   \n",
       "4              l1         saga   \n",
       "..            ...          ...   \n",
       "115          none    newton-cg   \n",
       "116          none        lbfgs   \n",
       "117          none    liblinear   \n",
       "118          none          sag   \n",
       "119          none         saga   \n",
       "\n",
       "                                                params  split0_test_score  \\\n",
       "0     {'C': 2, 'penalty': 'l1', 'solver': 'newton-cg'}                NaN   \n",
       "1         {'C': 2, 'penalty': 'l1', 'solver': 'lbfgs'}                NaN   \n",
       "2     {'C': 2, 'penalty': 'l1', 'solver': 'liblinear'}           0.914286   \n",
       "3           {'C': 2, 'penalty': 'l1', 'solver': 'sag'}                NaN   \n",
       "4          {'C': 2, 'penalty': 'l1', 'solver': 'saga'}           0.928571   \n",
       "..                                                 ...                ...   \n",
       "115  {'C': 30, 'penalty': 'none', 'solver': 'newton...           0.914286   \n",
       "116    {'C': 30, 'penalty': 'none', 'solver': 'lbfgs'}           0.914286   \n",
       "117  {'C': 30, 'penalty': 'none', 'solver': 'liblin...                NaN   \n",
       "118      {'C': 30, 'penalty': 'none', 'solver': 'sag'}           0.935714   \n",
       "119     {'C': 30, 'penalty': 'none', 'solver': 'saga'}           0.921429   \n",
       "\n",
       "     split1_test_score  split2_test_score  split3_test_score  \\\n",
       "0                  NaN                NaN                NaN   \n",
       "1                  NaN                NaN                NaN   \n",
       "2             0.928571           0.957143           0.985612   \n",
       "3                  NaN                NaN                NaN   \n",
       "4             0.921429           0.957143           0.978417   \n",
       "..                 ...                ...                ...   \n",
       "115           0.928571           0.957143           0.985612   \n",
       "116           0.928571           0.957143           0.985612   \n",
       "117                NaN                NaN                NaN   \n",
       "118           0.928571           0.957143           0.985612   \n",
       "119           0.921429           0.957143           0.978417   \n",
       "\n",
       "     split4_test_score  mean_test_score  std_test_score  rank_test_score  \n",
       "0                  NaN              NaN             NaN              120  \n",
       "1                  NaN              NaN             NaN               81  \n",
       "2             0.978417         0.952806        0.027648               16  \n",
       "3                  NaN              NaN             NaN               73  \n",
       "4             0.985612         0.954234        0.025739               14  \n",
       "..                 ...              ...             ...              ...  \n",
       "115           0.971223         0.951367        0.026438               36  \n",
       "116           0.971223         0.951367        0.026438               36  \n",
       "117                NaN              NaN             NaN               71  \n",
       "118           0.978417         0.957091        0.022532                1  \n",
       "119           0.985612         0.952806        0.027276               16  \n",
       "\n",
       "[120 rows x 16 columns]"
      ]
     },
     "execution_count": 38,
     "metadata": {},
     "output_type": "execute_result"
    }
   ],
   "source": [
    "Grid_Pram"
   ]
  },
  {
   "cell_type": "code",
   "execution_count": 39,
   "id": "27bdeb94-e7ac-496e-84fc-a994cb8f6fba",
   "metadata": {},
   "outputs": [
    {
     "data": {
      "text/html": [
       "<div>\n",
       "<style scoped>\n",
       "    .dataframe tbody tr th:only-of-type {\n",
       "        vertical-align: middle;\n",
       "    }\n",
       "\n",
       "    .dataframe tbody tr th {\n",
       "        vertical-align: top;\n",
       "    }\n",
       "\n",
       "    .dataframe thead th {\n",
       "        text-align: right;\n",
       "    }\n",
       "</style>\n",
       "<table border=\"1\" class=\"dataframe\">\n",
       "  <thead>\n",
       "    <tr style=\"text-align: right;\">\n",
       "      <th></th>\n",
       "      <th>param_C</th>\n",
       "      <th>param_penalty</th>\n",
       "      <th>param_solver</th>\n",
       "    </tr>\n",
       "  </thead>\n",
       "  <tbody>\n",
       "    <tr>\n",
       "      <th>0</th>\n",
       "      <td>2</td>\n",
       "      <td>l1</td>\n",
       "      <td>newton-cg</td>\n",
       "    </tr>\n",
       "    <tr>\n",
       "      <th>1</th>\n",
       "      <td>2</td>\n",
       "      <td>l1</td>\n",
       "      <td>lbfgs</td>\n",
       "    </tr>\n",
       "    <tr>\n",
       "      <th>2</th>\n",
       "      <td>2</td>\n",
       "      <td>l1</td>\n",
       "      <td>liblinear</td>\n",
       "    </tr>\n",
       "    <tr>\n",
       "      <th>3</th>\n",
       "      <td>2</td>\n",
       "      <td>l1</td>\n",
       "      <td>sag</td>\n",
       "    </tr>\n",
       "    <tr>\n",
       "      <th>4</th>\n",
       "      <td>2</td>\n",
       "      <td>l1</td>\n",
       "      <td>saga</td>\n",
       "    </tr>\n",
       "    <tr>\n",
       "      <th>...</th>\n",
       "      <td>...</td>\n",
       "      <td>...</td>\n",
       "      <td>...</td>\n",
       "    </tr>\n",
       "    <tr>\n",
       "      <th>115</th>\n",
       "      <td>30</td>\n",
       "      <td>none</td>\n",
       "      <td>newton-cg</td>\n",
       "    </tr>\n",
       "    <tr>\n",
       "      <th>116</th>\n",
       "      <td>30</td>\n",
       "      <td>none</td>\n",
       "      <td>lbfgs</td>\n",
       "    </tr>\n",
       "    <tr>\n",
       "      <th>117</th>\n",
       "      <td>30</td>\n",
       "      <td>none</td>\n",
       "      <td>liblinear</td>\n",
       "    </tr>\n",
       "    <tr>\n",
       "      <th>118</th>\n",
       "      <td>30</td>\n",
       "      <td>none</td>\n",
       "      <td>sag</td>\n",
       "    </tr>\n",
       "    <tr>\n",
       "      <th>119</th>\n",
       "      <td>30</td>\n",
       "      <td>none</td>\n",
       "      <td>saga</td>\n",
       "    </tr>\n",
       "  </tbody>\n",
       "</table>\n",
       "<p>120 rows × 3 columns</p>\n",
       "</div>"
      ],
      "text/plain": [
       "    param_C param_penalty param_solver\n",
       "0         2            l1    newton-cg\n",
       "1         2            l1        lbfgs\n",
       "2         2            l1    liblinear\n",
       "3         2            l1          sag\n",
       "4         2            l1         saga\n",
       "..      ...           ...          ...\n",
       "115      30          none    newton-cg\n",
       "116      30          none        lbfgs\n",
       "117      30          none    liblinear\n",
       "118      30          none          sag\n",
       "119      30          none         saga\n",
       "\n",
       "[120 rows x 3 columns]"
      ]
     },
     "execution_count": 39,
     "metadata": {},
     "output_type": "execute_result"
    }
   ],
   "source": [
    "Grid_Pram[[\"param_C\",\"param_penalty\",\"param_solver\"]]"
   ]
  },
  {
   "cell_type": "markdown",
   "id": "31beba4f-ed20-46d5-9179-d8eb68b3c626",
   "metadata": {},
   "source": [
    "##### RANDOM SEARCH"
   ]
  },
  {
   "cell_type": "code",
   "execution_count": 40,
   "id": "b15a369d-ff4a-4e75-ad67-50aa8e4c6806",
   "metadata": {},
   "outputs": [],
   "source": [
    "RDD = RandomizedSearchCV(LOG,params,cv=5,verbose=True)"
   ]
  },
  {
   "cell_type": "code",
   "execution_count": 41,
   "id": "d2cc78fe-67df-4e72-8611-4dfa56801e5a",
   "metadata": {},
   "outputs": [
    {
     "name": "stdout",
     "output_type": "stream",
     "text": [
      "Fitting 5 folds for each of 10 candidates, totalling 50 fits\n"
     ]
    },
    {
     "data": {
      "text/plain": [
       "RandomizedSearchCV(cv=5, estimator=LogisticRegression(),\n",
       "                   param_distributions={'C': [2, 5, 10, 15, 20, 30],\n",
       "                                        'penalty': ['l1', 'l2', 'elasticnet',\n",
       "                                                    'none'],\n",
       "                                        'solver': ['newton-cg', 'lbfgs',\n",
       "                                                   'liblinear', 'sag',\n",
       "                                                   'saga']},\n",
       "                   verbose=True)"
      ]
     },
     "execution_count": 41,
     "metadata": {},
     "output_type": "execute_result"
    }
   ],
   "source": [
    "RDD.fit(X,Y)"
   ]
  },
  {
   "cell_type": "code",
   "execution_count": 42,
   "id": "9cfe6f25-31a1-4c9f-9387-4ad2b31b5cca",
   "metadata": {},
   "outputs": [
    {
     "data": {
      "text/plain": [
       "{'solver': 'saga', 'penalty': 'l1', 'C': 2}"
      ]
     },
     "execution_count": 42,
     "metadata": {},
     "output_type": "execute_result"
    }
   ],
   "source": [
    "RDD.best_params_"
   ]
  },
  {
   "cell_type": "code",
   "execution_count": 43,
   "id": "d4cdd5de-8e47-46c4-be0f-5c7df4e73f9c",
   "metadata": {},
   "outputs": [
    {
     "data": {
      "text/plain": [
       "0.9542343268242549"
      ]
     },
     "execution_count": 43,
     "metadata": {},
     "output_type": "execute_result"
    }
   ],
   "source": [
    "RDD.best_score_"
   ]
  },
  {
   "cell_type": "code",
   "execution_count": 44,
   "id": "b42153ba-cdeb-4d9b-b832-632f1608e449",
   "metadata": {},
   "outputs": [
    {
     "data": {
      "text/plain": [
       "LogisticRegression(C=2, penalty='l1', solver='saga')"
      ]
     },
     "execution_count": 44,
     "metadata": {},
     "output_type": "execute_result"
    }
   ],
   "source": [
    "RDD.best_estimator_"
   ]
  },
  {
   "cell_type": "markdown",
   "id": "2767d1df-394a-4ed3-8b79-e6111a0f1984",
   "metadata": {},
   "source": [
    "##### Prediction\n"
   ]
  },
  {
   "cell_type": "code",
   "execution_count": 45,
   "id": "dcfcd4a7-ecf0-460f-98c8-8cc2c1042d27",
   "metadata": {},
   "outputs": [],
   "source": [
    "LGG = RDD.best_estimator_\n",
    "predict_RDD=LGG.predict(x_test)"
   ]
  },
  {
   "cell_type": "code",
   "execution_count": 46,
   "id": "33ecbc7f-ad05-486e-ac7e-4de2a3060e5f",
   "metadata": {},
   "outputs": [],
   "source": [
    "Accuracy_Score = accuracy_score(y_test,predict_RDD)"
   ]
  },
  {
   "cell_type": "code",
   "execution_count": 47,
   "id": "10248552-dfea-47f4-ac76-6d134777babc",
   "metadata": {},
   "outputs": [
    {
     "data": {
      "text/plain": [
       "0.9642857142857143"
      ]
     },
     "execution_count": 47,
     "metadata": {},
     "output_type": "execute_result"
    }
   ],
   "source": [
    "Accuracy_Score"
   ]
  },
  {
   "cell_type": "code",
   "execution_count": 48,
   "id": "a1f0f1b6-f312-4df1-b972-744839ea0784",
   "metadata": {},
   "outputs": [],
   "source": [
    "GRD.best_estimator_\n",
    "predict_GRD = GRD.predict(x_test)"
   ]
  },
  {
   "cell_type": "code",
   "execution_count": 49,
   "id": "1ba9bd18-5641-44b5-bc46-68bf98c827f1",
   "metadata": {},
   "outputs": [],
   "source": [
    "Accuracy_Score_GRD = accuracy_score(y_test,predict_GRD)"
   ]
  },
  {
   "cell_type": "code",
   "execution_count": 50,
   "id": "152cd857-eb3d-499a-8d2a-b2f187a71c2a",
   "metadata": {},
   "outputs": [
    {
     "data": {
      "text/plain": [
       "0.9642857142857143"
      ]
     },
     "execution_count": 50,
     "metadata": {},
     "output_type": "execute_result"
    }
   ],
   "source": [
    "Accuracy_Score_GRD"
   ]
  },
  {
   "cell_type": "markdown",
   "id": "127fa642-ce53-457c-b435-9d1b5b8cde6e",
   "metadata": {},
   "source": [
    "#### MAKING PREDICTIVE SYSTEM"
   ]
  },
  {
   "cell_type": "code",
   "execution_count": 51,
   "id": "bbe62b23-9aeb-46fa-b135-191a7002145f",
   "metadata": {},
   "outputs": [],
   "source": [
    "features =np.array([[1,1,1,1,2,1,1,1]])"
   ]
  },
  {
   "cell_type": "code",
   "execution_count": 52,
   "id": "16cb9013-ec1a-414c-af4b-4a8e2ec68611",
   "metadata": {},
   "outputs": [],
   "source": [
    "features = features.astype(int)"
   ]
  },
  {
   "cell_type": "code",
   "execution_count": 53,
   "id": "92e4574a-e209-4658-98fb-230e308479d3",
   "metadata": {},
   "outputs": [],
   "source": [
    "pre = LGG.predict(features)"
   ]
  },
  {
   "cell_type": "code",
   "execution_count": 54,
   "id": "b10c8366-d230-4279-a0d2-9ea5822bdc7d",
   "metadata": {},
   "outputs": [
    {
     "name": "stdout",
     "output_type": "stream",
     "text": [
      "The Cancer class of this Features is  [2]\n"
     ]
    }
   ],
   "source": [
    "print(\"The Cancer class of this Features is \",pre)"
   ]
  },
  {
   "cell_type": "code",
   "execution_count": 55,
   "id": "1797060f-a978-4325-87a6-7cf73ca463a5",
   "metadata": {},
   "outputs": [],
   "source": [
    "import pickle"
   ]
  },
  {
   "cell_type": "code",
   "execution_count": 56,
   "id": "179e8471-cfea-487c-ba56-b1ba38dddb44",
   "metadata": {},
   "outputs": [],
   "source": [
    "dict_filename = \"Save_step.pkl\""
   ]
  },
  {
   "cell_type": "code",
   "execution_count": 57,
   "id": "54f08be7-fc67-4c88-a5d5-37795b17e34e",
   "metadata": {},
   "outputs": [],
   "source": [
    "data = {\"Model\":LGG}"
   ]
  },
  {
   "cell_type": "code",
   "execution_count": 58,
   "id": "5651d5c3-a494-47a4-b659-8657605db695",
   "metadata": {},
   "outputs": [],
   "source": [
    "with open(\"Save_step.pkl\",\"wb\") as file:\n",
    "    pickle.dump(data,file)"
   ]
  },
  {
   "cell_type": "code",
   "execution_count": 59,
   "id": "ccb4347f-b9d8-4884-b165-66e6713d09cf",
   "metadata": {},
   "outputs": [],
   "source": [
    "#read saved file\n",
    "with open(\"Save_step.pkl\",\"rb\") as file:\n",
    "    data=pickle.load(file)"
   ]
  },
  {
   "cell_type": "code",
   "execution_count": 60,
   "id": "8471921a-e015-40a0-acf0-b5f35fec6b42",
   "metadata": {},
   "outputs": [],
   "source": [
    "regre = data[\"Model\"]"
   ]
  },
  {
   "cell_type": "code",
   "execution_count": 61,
   "id": "2c0558d8-5a8c-4fd8-89aa-3708dddf5cd8",
   "metadata": {},
   "outputs": [],
   "source": [
    "predd = regre.predict(features)"
   ]
  },
  {
   "cell_type": "code",
   "execution_count": 62,
   "id": "3b44e4e6-d4b8-4ef7-b2f1-977a030f89ec",
   "metadata": {},
   "outputs": [
    {
     "name": "stdout",
     "output_type": "stream",
     "text": [
      "The Cancer class of this Features is  [2]\n"
     ]
    }
   ],
   "source": [
    "print(\"The Cancer class of this Features is \",predd)"
   ]
  },
  {
   "cell_type": "code",
   "execution_count": 63,
   "id": "ae9921ce-df98-4102-9fac-040158ee6d08",
   "metadata": {},
   "outputs": [],
   "source": [
    "import streamlit as st"
   ]
  },
  {
   "cell_type": "code",
   "execution_count": 64,
   "id": "10d514f3-2072-4d95-a0a1-fa937b593a92",
   "metadata": {},
   "outputs": [],
   "source": [
    "def load_model():\n",
    "    with open(\"Save_step.pkl\",\"rb\") as file:\n",
    "        data=pickle.load(file)\n",
    "    return data\n",
    "data = load_model()\n",
    "regre=data[\"Model\"]"
   ]
  },
  {
   "cell_type": "code",
   "execution_count": 66,
   "id": "9d70662b-be2e-40a2-b8a0-135c77e67fe4",
   "metadata": {},
   "outputs": [],
   "source": [
    "def show_predict_page():\n",
    "    st.title(\"DATA SCIENTIST SALARY PREDICTION BY ABDULLAHI AHMAD\")\n",
    "    st.write(\"We need some information from you\")\n",
    "    Clump_Thickness=(1,2,3,4,5,6,7,8,9,0)\n",
    "    Uniformity_of_Cell_Size=(1,2,3,4,5,6,7,8,9,0)\n",
    "    Uniformity_of_Cell_Shape=(1,2,3,4,5,6,7,8,9,0)\n",
    "    Marginal_Adhesion=(1,2,3,4,5,6,7,8,9,0)\n",
    "    Single_Epithelial_Cell_Size=(1,2,3,4,5,6,7,8,9,0)\n",
    "    Bland_Chromatin=(1,2,3,4,5,6,7,8,9,0)\n",
    "    Normal_Nucleoli=(1,2,3,4,5,6,7,8,9,0)\n",
    "    Mitoses=(1,2,3,4,5,6,7,8,9,0)\n",
    "    Clump_Thickness=st.selectbox(\"Clump_Thickness\",Clump_Thickness)\n",
    "    Uniformity_of_Cell_Size=st.selectbox(\" Uniformity_of_Cell_Size\", Uniformity_of_Cell_Size)\n",
    "    Uniformity_of_Cell_Shape = st.selectbox(\"Uniformity_of_Cell_Shape\",Uniformity_of_Cell_Shape)\n",
    "    Marginal_Adhesion= st.selectbox(\"Marginal_Adhesion\",Marginal_Adhesion)\n",
    "    Single_Epithelial_Cell_Size=st.selectbox(\" Single_Epithelial_Cell_Size\",Single_Epithelial_Cell_Size)\n",
    "    Bland_Chromatin=st.selectbox(\"Bland_Chromatin\",Bland_Chromatin)\n",
    "    Normal_Nucleoli=st.selectbox(\"Normal_Nucleoli\",Normal_Nucleoli)\n",
    "    Mitoses=st.selectbox(\"Mitoses\",Mitoses)\n",
    "    ok =st.button(\"Disease Type\")\n",
    "    if ok:\n",
    "        features=np.array([Clump_Thickness,Uniformity_of_Cell_Size,Uniformity_of_Cell_Shape,Marginal_Adhesion,Single_Epithelial_Cell_Size,\n",
    "                          Bland_Chromatin,Normal_Nucleoli,Mitoses])\n",
    "        features = features.astype(int)\n",
    "        \n",
    "        Disease = regre.predict(features)\n",
    "        st.subheader(\"The Cancer Class of this Features is\",Disease)"
   ]
  },
  {
   "cell_type": "code",
   "execution_count": 67,
   "id": "e855326b-6482-4c2f-bb9f-bf2ea5f95ce9",
   "metadata": {},
   "outputs": [],
   "source": [
    "import pickle"
   ]
  },
  {
   "cell_type": "code",
   "execution_count": 69,
   "id": "670d71a5-6aca-4682-a09d-01814a1f3755",
   "metadata": {},
   "outputs": [],
   "source": [
    "filename = 'trained_model.sav'"
   ]
  },
  {
   "cell_type": "code",
   "execution_count": 71,
   "id": "be3343ff-1a03-4c62-be3f-62a145ad6eae",
   "metadata": {},
   "outputs": [],
   "source": [
    "pickle.dump(LGG,open(filename,'wb'))"
   ]
  },
  {
   "cell_type": "code",
   "execution_count": 73,
   "id": "af095952-f6f2-4a9f-ac5c-bac22d67ee17",
   "metadata": {},
   "outputs": [],
   "source": [
    "#loading the saved model\n",
    "loaded_model = pickle.load(open('trained_model.sav','rb'))"
   ]
  },
  {
   "cell_type": "code",
   "execution_count": 74,
   "id": "d06aff83-3467-4c77-8a4a-389ea77de3f2",
   "metadata": {},
   "outputs": [],
   "source": [
    "features =np.array([[1,1,1,1,2,1,1,1]])"
   ]
  },
  {
   "cell_type": "code",
   "execution_count": 76,
   "id": "62dad4dd-273c-49ab-ae42-b64dd4e4e6b0",
   "metadata": {},
   "outputs": [],
   "source": [
    "features = features.astype(int)"
   ]
  },
  {
   "cell_type": "code",
   "execution_count": 77,
   "id": "057e98c8-dd68-4955-a557-362700b5cc4e",
   "metadata": {},
   "outputs": [],
   "source": [
    "pre = loaded_model.predict(features)"
   ]
  },
  {
   "cell_type": "code",
   "execution_count": 78,
   "id": "14e3cabf-6e6f-4914-85c5-0b795bb38598",
   "metadata": {},
   "outputs": [
    {
     "name": "stdout",
     "output_type": "stream",
     "text": [
      "The Cancer class of this Features is  [2]\n"
     ]
    }
   ],
   "source": [
    "print(\"The Cancer class of this Features is \",pre)"
   ]
  },
  {
   "cell_type": "code",
   "execution_count": null,
   "id": "424984be-899a-4004-a525-f59ad7f17f4e",
   "metadata": {},
   "outputs": [],
   "source": []
  }
 ],
 "metadata": {
  "kernelspec": {
   "display_name": "Python 3 (ipykernel)",
   "language": "python",
   "name": "python3"
  },
  "language_info": {
   "codemirror_mode": {
    "name": "ipython",
    "version": 3
   },
   "file_extension": ".py",
   "mimetype": "text/x-python",
   "name": "python",
   "nbconvert_exporter": "python",
   "pygments_lexer": "ipython3",
   "version": "3.9.7"
  }
 },
 "nbformat": 4,
 "nbformat_minor": 5
}
